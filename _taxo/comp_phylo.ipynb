{
 "cells": [
  {
   "cell_type": "markdown",
   "metadata": {},
   "source": [
    "# Compare taxonomy\n",
    "most complex one; Howwwwww!!!!!!!!!"
   ]
  },
  {
   "cell_type": "code",
   "execution_count": 2,
   "metadata": {},
   "outputs": [],
   "source": [
    "import pandas as pd\n",
    "import numpy as np"
   ]
  },
  {
   "cell_type": "code",
   "execution_count": 1,
   "metadata": {},
   "outputs": [],
   "source": [
    "files = ['~/Documents/didi/level-6.2.csv','/home/diane/Documents/didi/level-6.11.csv']\n",
    "meta = '/home/diane/Documents/didi/METADATA.csv'"
   ]
  },
  {
   "cell_type": "code",
   "execution_count": null,
   "metadata": {},
   "outputs": [],
   "source": [
    "def cmp_phyl (filenames, metadata = None):\n",
    "    for i in range(len(filenames)-1):\n",
    "        smpl = pd.merge(pd.read_csv(filenames[i]), pd.read_csv(filenames[i+1]), on = 'sample')\n",
    "        smpl.rename(columns={'sample':'sample-id'}, inplace=True)\n",
    "        smpl = pd.melt(smpl, id_vars='sample-id')\n",
    "        \n",
    "        if metadata:\n",
    "            smpl = pd.merge( smpl, pd.read_csv(metadata), on = 'sample-id', how = 'left')\n",
    "            rcp = pt.RainCloud(x = 'variable', y = 'value',\n",
    "                 data = smpl, orient = 'h',\n",
    "                 hue = 'depth_code', alpha=0.65)\n",
    "            return; rcp\n",
    "            \n",
    "    return rcp"
   ]
  },
  {
   "cell_type": "markdown",
   "metadata": {},
   "source": [
    "1. need to have the files at level 7\n",
    "2. make an empty matrix of size (ntable*nsamples) X 7 (each column = sampleID, tableID, 4 common taxa, other)\n",
    "3. make a list for column names that will be the level name, not the weird k__...p_...\n",
    "3. fill the matrix per sample by the abundance of that taxonomic lvl"
   ]
  }
 ],
 "metadata": {
  "kernelspec": {
   "display_name": "Python 3",
   "language": "python",
   "name": "python3"
  },
  "language_info": {
   "codemirror_mode": {
    "name": "ipython",
    "version": 3
   },
   "file_extension": ".py",
   "mimetype": "text/x-python",
   "name": "python",
   "nbconvert_exporter": "python",
   "pygments_lexer": "ipython3",
   "version": "3.7.3"
  }
 },
 "nbformat": 4,
 "nbformat_minor": 2
}
