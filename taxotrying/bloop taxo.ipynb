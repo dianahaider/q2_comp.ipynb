{
 "cells": [
  {
   "cell_type": "code",
   "execution_count": 148,
   "metadata": {},
   "outputs": [],
   "source": [
    "%matplotlib inline\n",
    "import pandas as pd\n",
    "from scipy.spatial.distance import pdist, squareform\n",
    "from sklearn.decomposition import PCA\n",
    "import matplotlib.pyplot as plt"
   ]
  },
  {
   "cell_type": "code",
   "execution_count": 149,
   "metadata": {},
   "outputs": [],
   "source": [
    "#first import your levels csv (perhaps at level5)\n",
    "M1 = pd.read_csv(\"/home/diana/qbb2/tables/dada2/11/extractbarplot11/data/level-5.csv\")\n",
    "M2 = pd.read_csv(\"/home/diana/qbb2/tables/dada2/2/barplotextract/data/level-5.csv\")\n",
    "M3 = pd.read_csv(\"/home/diana/qbb2/tables/dada2/trim/15/extractbarplot15/data/level-5.csv\")\n",
    "M4 = pd.read_csv(\"/home/diana/qbb2/tables/dada2/trim/16/extractbarplot16/data/level-5.csv\")"
   ]
  },
  {
   "cell_type": "code",
   "execution_count": 150,
   "metadata": {},
   "outputs": [],
   "source": [
    "#remove the metadata from the tables\n",
    "M1 = M1.drop(columns = ['index','investigation_id','date','week','week_plus_year','depth','depth_code','name'])\n",
    "M2 = M2.drop(columns = ['index','investigation_id','date','week','week_plus_year','depth','depth_code','name'])\n",
    "M3 = M3.drop(columns = ['index','investigation_id','date','week','week_plus_year','depth','depth_code','name'])\n",
    "M4 = M4.drop(columns = ['index','investigation_id','date','week','week_plus_year','depth','depth_code','name'])\n"
   ]
  },
  {
   "cell_type": "code",
   "execution_count": 151,
   "metadata": {},
   "outputs": [],
   "source": [
    "#sum each rows to get total # of tax\n",
    "M1 = M1.sum().to_frame().rename(columns={0:'M1'})\n",
    "M2 = M2.sum().to_frame().rename(columns={0:'M2'})\n",
    "M3 = M3.sum().to_frame().rename(columns={0:'M3'})\n",
    "M4 = M4.sum().to_frame().rename(columns={0:'M4'})"
   ]
  },
  {
   "cell_type": "code",
   "execution_count": 156,
   "metadata": {},
   "outputs": [],
   "source": [
    "#merge each column\n",
    "M1_2 = M1.merge(M2, how='outer', left_index = True, right_index = True)\n",
    "M1_2_3 = M1_2.merge(M3, how='outer', left_index = True, right_index = True)\n",
    "M1_2_3_4 = M1_2_3.merge(M4, how='outer', left_index = True, right_index = True)\n",
    "\n",
    "#replace Nan by 0\n",
    "Method = M1_2_3_4.fillna(0)"
   ]
  },
  {
   "cell_type": "code",
   "execution_count": 157,
   "metadata": {},
   "outputs": [],
   "source": [
    "Method = Method.transpose()"
   ]
  },
  {
   "cell_type": "code",
   "execution_count": 158,
   "metadata": {},
   "outputs": [],
   "source": [
    "#make it into a distance matrix\n",
    "distance_matrix = squareform(pdist(Method.values))"
   ]
  },
  {
   "cell_type": "code",
   "execution_count": 159,
   "metadata": {},
   "outputs": [],
   "source": [
    "distance_matrix = pd.DataFrame(data=distance_matrix)"
   ]
  },
  {
   "cell_type": "code",
   "execution_count": 160,
   "metadata": {},
   "outputs": [
    {
     "data": {
      "text/html": [
       "<div>\n",
       "<style scoped>\n",
       "    .dataframe tbody tr th:only-of-type {\n",
       "        vertical-align: middle;\n",
       "    }\n",
       "\n",
       "    .dataframe tbody tr th {\n",
       "        vertical-align: top;\n",
       "    }\n",
       "\n",
       "    .dataframe thead th {\n",
       "        text-align: right;\n",
       "    }\n",
       "</style>\n",
       "<table border=\"1\" class=\"dataframe\">\n",
       "  <thead>\n",
       "    <tr style=\"text-align: right;\">\n",
       "      <th></th>\n",
       "      <th>0</th>\n",
       "      <th>1</th>\n",
       "      <th>2</th>\n",
       "      <th>3</th>\n",
       "    </tr>\n",
       "  </thead>\n",
       "  <tbody>\n",
       "    <tr>\n",
       "      <th>0</th>\n",
       "      <td>0.000000</td>\n",
       "      <td>920109.362446</td>\n",
       "      <td>981435.716782</td>\n",
       "      <td>480456.301458</td>\n",
       "    </tr>\n",
       "    <tr>\n",
       "      <th>1</th>\n",
       "      <td>920109.362446</td>\n",
       "      <td>0.000000</td>\n",
       "      <td>147853.914574</td>\n",
       "      <td>456072.754487</td>\n",
       "    </tr>\n",
       "    <tr>\n",
       "      <th>2</th>\n",
       "      <td>981435.716782</td>\n",
       "      <td>147853.914574</td>\n",
       "      <td>0.000000</td>\n",
       "      <td>502657.454981</td>\n",
       "    </tr>\n",
       "    <tr>\n",
       "      <th>3</th>\n",
       "      <td>480456.301458</td>\n",
       "      <td>456072.754487</td>\n",
       "      <td>502657.454981</td>\n",
       "      <td>0.000000</td>\n",
       "    </tr>\n",
       "  </tbody>\n",
       "</table>\n",
       "</div>"
      ],
      "text/plain": [
       "               0              1              2              3\n",
       "0       0.000000  920109.362446  981435.716782  480456.301458\n",
       "1  920109.362446       0.000000  147853.914574  456072.754487\n",
       "2  981435.716782  147853.914574       0.000000  502657.454981\n",
       "3  480456.301458  456072.754487  502657.454981       0.000000"
      ]
     },
     "execution_count": 160,
     "metadata": {},
     "output_type": "execute_result"
    }
   ],
   "source": [
    "distance_matrix"
   ]
  },
  {
   "cell_type": "code",
   "execution_count": 161,
   "metadata": {},
   "outputs": [],
   "source": [
    "pca = PCA(n_components=2)\n",
    "X2d = pca.fit_transform(distance_matrix)"
   ]
  },
  {
   "cell_type": "code",
   "execution_count": 164,
   "metadata": {},
   "outputs": [
    {
     "data": {
      "text/plain": [
       "[<matplotlib.lines.Line2D at 0x7f81081b0048>,\n",
       " <matplotlib.lines.Line2D at 0x7f81081b0198>]"
      ]
     },
     "execution_count": 164,
     "metadata": {},
     "output_type": "execute_result"
    },
    {
     "data": {
      "image/png": "[encoded data removed]",
      "text/plain": [
       "<Figure size 432x288 with 1 Axes>"
      ]
     },
     "metadata": {
      "needs_background": "light"
     },
     "output_type": "display_data"
    }
   ],
   "source": [
    "plt.plot(X2d)"
   ]
  },
  {
   "cell_type": "code",
   "execution_count": 106,
   "metadata": {},
   "outputs": [
    {
     "data": {
      "image/png": "[encoded data removed]",
      "text/plain": [
       "<Figure size 576x576 with 1 Axes>"
      ]
     },
     "metadata": {
      "needs_background": "light"
     },
     "output_type": "display_data"
    }
   ],
   "source": [
    "fig = plt.figure(figsize = (8,8))\n",
    "ax = fig.add_subplot(1,1,1) \n",
    "ax.set_xlabel('Principal Component 1', fontsize = 15)\n",
    "ax.set_ylabel('Principal Component 2', fontsize = 15)\n",
    "ax.set_title('2 component PCA', fontsize = 20)\n",
    "\n",
    "ax.grid()"
   ]
  },
  {
   "cell_type": "code",
   "execution_count": null,
   "metadata": {},
   "outputs": [],
   "source": []
  }
 ],
 "metadata": {
  "kernelspec": {
   "display_name": "Python 3",
   "language": "python",
   "name": "python3"
  },
  "language_info": {
   "codemirror_mode": {
    "name": "ipython",
    "version": 3
   },
   "file_extension": ".py",
   "mimetype": "text/x-python",
   "name": "python",
   "nbconvert_exporter": "python",
   "pygments_lexer": "ipython3",
   "version": "3.7.4"
  }
 },
 "nbformat": 4,
 "nbformat_minor": 2
}
