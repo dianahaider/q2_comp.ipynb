{
 "cells": [
  {
   "cell_type": "code",
   "execution_count": 1,
   "metadata": {},
   "outputs": [],
   "source": [
    "%matplotlib inline\n",
    "import pandas as pd\n",
    "import numpy as np\n",
    "from scipy.spatial.distance import pdist, squareform\n",
    "from sklearn.decomposition import PCA\n",
    "import matplotlib.pyplot as plt\n",
    "from matplotlib.pylab import *\n",
    "import seaborn as sns"
   ]
  },
  {
   "cell_type": "code",
   "execution_count": 2,
   "metadata": {},
   "outputs": [],
   "source": [
    "#first import your levels csv (perhaps at level5)\n",
    "#M1 = pd.read_csv(\"/home/diana/qbb2/tables/dada2/11/extractbarplot11/data/level-5.csv\")\n",
    "M2 = pd.read_csv(\"/Users/Diana/BB-raw/bb-16/summer2019/dada2/truncq/11/extractbarplot11/data/level-5.csv\")\n",
    "M3 = pd.read_csv(\"/Users/Diana/BB-raw/bb-16/summer2019/dada2/chimera_removal/20/7d0fb5a0-813d-4018-aa59-9f32a22f3fe3/data/level-5.csv\")\n",
    "M4 = pd.read_csv(\"/Users/Diana/BB-raw/bb-16/summer2019/dada2/chimera_removal/11/extractbarplot11/data/level-5.csv\")"
   ]
  },
  {
   "cell_type": "code",
   "execution_count": 3,
   "metadata": {},
   "outputs": [],
   "source": [
    "#remove the metadata from the tables\n",
    "#M1 = M1.drop(columns = ['index','investigation_id','date','week','week_plus_year','depth','depth_code','name'])\n",
    "M2 = M2.drop(columns = ['index','investigation_id','date','week','week_plus_year','depth','depth_code','name'])\n",
    "M3 = M3.drop(columns = ['index','investigation_id','date','week','week_plus_year','depth','depth_code','name'])\n",
    "M4 = M4.drop(columns = ['index','investigation_id','date','week','week_plus_year','depth','depth_code','name'])\n"
   ]
  },
  {
   "cell_type": "code",
   "execution_count": 4,
   "metadata": {},
   "outputs": [],
   "source": [
    "#sum each rows to get total # of tax\n",
    "#M1 = M1.sum().to_frame().rename(columns={0:'M1'})\n",
    "M2 = M2.sum().to_frame().rename(columns={0:'M2'})\n",
    "M3 = M3.sum().to_frame().rename(columns={0:'M3'})\n",
    "M4 = M4.sum().to_frame().rename(columns={0:'M4'})"
   ]
  },
  {
   "cell_type": "code",
   "execution_count": 5,
   "metadata": {},
   "outputs": [],
   "source": [
    "#merge each column\n",
    "#M1_2 = M1.merge(M2, how='outer', left_index = True, right_index = True)\n",
    "M1_2_3 = M2.merge(M3, how='outer', left_index = True, right_index = True)\n",
    "M1_2_3_4 = M1_2_3.merge(M4, how='outer', left_index = True, right_index = True)\n",
    "\n",
    "#replace Nan by 0\n",
    "Method = M1_2_3_4.fillna(0)"
   ]
  },
  {
   "cell_type": "code",
   "execution_count": 6,
   "metadata": {},
   "outputs": [],
   "source": [
    "Method = Method.transpose()"
   ]
  },
  {
   "cell_type": "code",
   "execution_count": 7,
   "metadata": {},
   "outputs": [],
   "source": [
    "#make it into a distance matrix\n",
    "distance_matrix = squareform(pdist(Method.values))"
   ]
  },
  {
   "cell_type": "code",
   "execution_count": 8,
   "metadata": {},
   "outputs": [],
   "source": [
    "distance_matrix = pd.DataFrame(data=distance_matrix)"
   ]
  },
  {
   "cell_type": "code",
   "execution_count": 9,
   "metadata": {},
   "outputs": [
    {
     "data": {
      "text/html": [
       "<div>\n",
       "<style scoped>\n",
       "    .dataframe tbody tr th:only-of-type {\n",
       "        vertical-align: middle;\n",
       "    }\n",
       "\n",
       "    .dataframe tbody tr th {\n",
       "        vertical-align: top;\n",
       "    }\n",
       "\n",
       "    .dataframe thead th {\n",
       "        text-align: right;\n",
       "    }\n",
       "</style>\n",
       "<table border=\"1\" class=\"dataframe\">\n",
       "  <thead>\n",
       "    <tr style=\"text-align: right;\">\n",
       "      <th></th>\n",
       "      <th>0</th>\n",
       "      <th>1</th>\n",
       "      <th>2</th>\n",
       "    </tr>\n",
       "  </thead>\n",
       "  <tbody>\n",
       "    <tr>\n",
       "      <th>0</th>\n",
       "      <td>0.000000</td>\n",
       "      <td>435429.145087</td>\n",
       "      <td>0.000000</td>\n",
       "    </tr>\n",
       "    <tr>\n",
       "      <th>1</th>\n",
       "      <td>435429.145087</td>\n",
       "      <td>0.000000</td>\n",
       "      <td>435429.145087</td>\n",
       "    </tr>\n",
       "    <tr>\n",
       "      <th>2</th>\n",
       "      <td>0.000000</td>\n",
       "      <td>435429.145087</td>\n",
       "      <td>0.000000</td>\n",
       "    </tr>\n",
       "  </tbody>\n",
       "</table>\n",
       "</div>"
      ],
      "text/plain": [
       "               0              1              2\n",
       "0       0.000000  435429.145087       0.000000\n",
       "1  435429.145087       0.000000  435429.145087\n",
       "2       0.000000  435429.145087       0.000000"
      ]
     },
     "execution_count": 9,
     "metadata": {},
     "output_type": "execute_result"
    }
   ],
   "source": [
    "distance_matrix"
   ]
  },
  {
   "cell_type": "code",
   "execution_count": 10,
   "metadata": {},
   "outputs": [
    {
     "data": {
      "text/plain": [
       "<AxesSubplot:>"
      ]
     },
     "execution_count": 10,
     "metadata": {},
     "output_type": "execute_result"
    },
    {
     "data": {
      "image/png": "[encoded data removed]",
      "text/plain": [
       "<Figure size 720x720 with 2 Axes>"
      ]
     },
     "metadata": {
      "needs_background": "light"
     },
     "output_type": "display_data"
    }
   ],
   "source": [
    "plt.figure(figsize=(10,10))\n",
    "sns.heatmap(\n",
    "    distance_matrix,\n",
    "    cmap='OrRd',\n",
    "    linewidth=1\n",
    ")"
   ]
  },
  {
   "cell_type": "code",
   "execution_count": 11,
   "metadata": {},
   "outputs": [],
   "source": [
    "pca = PCA(n_components=2)\n",
    "X2d = pca.fit_transform(distance_matrix)"
   ]
  },
  {
   "cell_type": "code",
   "execution_count": 12,
   "metadata": {},
   "outputs": [
    {
     "data": {
      "text/plain": [
       "[<matplotlib.lines.Line2D at 0x7f84234b6730>,\n",
       " <matplotlib.lines.Line2D at 0x7f84234b6760>]"
      ]
     },
     "execution_count": 12,
     "metadata": {},
     "output_type": "execute_result"
    },
    {
     "data": {
      "image/png": "[encoded data removed]",
      "text/plain": [
       "<Figure size 432x288 with 1 Axes>"
      ]
     },
     "metadata": {
      "needs_background": "light"
     },
     "output_type": "display_data"
    }
   ],
   "source": [
    "plt.plot(X2d)"
   ]
  },
  {
   "cell_type": "code",
   "execution_count": 106,
   "metadata": {},
   "outputs": [
    {
     "data": {
      "image/png": "[encoded data removed]",
      "text/plain": [
       "<Figure size 576x576 with 1 Axes>"
      ]
     },
     "metadata": {
      "needs_background": "light"
     },
     "output_type": "display_data"
    }
   ],
   "source": [
    "fig = plt.figure(figsize = (8,8))\n",
    "ax = fig.add_subplot(1,1,1) \n",
    "ax.set_xlabel('Principal Component 1', fontsize = 15)\n",
    "ax.set_ylabel('Principal Component 2', fontsize = 15)\n",
    "ax.set_title('2 component PCA', fontsize = 20)\n",
    "\n",
    "ax.grid()"
   ]
  },
  {
   "cell_type": "code",
   "execution_count": 20,
   "metadata": {},
   "outputs": [],
   "source": [
    "R = np.array (distance_matrix)"
   ]
  },
  {
   "cell_type": "code",
   "execution_count": 23,
   "metadata": {},
   "outputs": [
    {
     "name": "stderr",
     "output_type": "stream",
     "text": [
      "Clipping input data to the valid range for imshow with RGB data ([0..1] for floats or [0..255] for integers).\n"
     ]
    },
    {
     "name": "stdout",
     "output_type": "stream",
     "text": [
      "[array([[     0.        , 920109.36244557, 981435.7167818 ,\n",
      "        480456.30145831]]), array([[920109.36244557,      0.        , 147853.91457449,\n",
      "        456072.75448661]]), array([[981435.7167818 , 147853.91457449,      0.        ,\n",
      "        502657.45498102]]), array([[480456.30145831, 456072.75448661, 502657.45498102,\n",
      "             0.        ]])]\n"
     ]
    },
    {
     "data": {
      "image/png": "[encoded data removed]",
      "text/plain": [
       "<Figure size 288x1152 with 1 Axes>"
      ]
     },
     "metadata": {
      "needs_background": "light"
     },
     "output_type": "display_data"
    }
   ],
   "source": [
    "C = np.split(R, 4)\n",
    "print(C)\n",
    "matshow(C,cmap=cm.gray)\n",
    "plt.show()"
   ]
  },
  {
   "cell_type": "code",
   "execution_count": null,
   "metadata": {},
   "outputs": [],
   "source": [
    "import plotly.express as px\n",
    "df = px.data.tips()\n",
    "\n",
    "fig = px.density_heatmap(pca_plot, x=\"total_bill\", y=\"tip\")\n",
    "fig.show()"
   ]
  }
 ],
 "metadata": {
  "kernelspec": {
   "display_name": "qiime2-2020.11",
   "language": "python",
   "name": "qiime2-2020.11"
  },
  "language_info": {
   "codemirror_mode": {
    "name": "ipython",
    "version": 3
   },
   "file_extension": ".py",
   "mimetype": "text/x-python",
   "name": "python",
   "nbconvert_exporter": "python",
   "pygments_lexer": "ipython3",
   "version": "3.8.5"
  }
 },
 "nbformat": 4,
 "nbformat_minor": 2
}
