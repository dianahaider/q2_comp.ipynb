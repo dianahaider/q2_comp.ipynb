{
 "cells": [
  {
   "cell_type": "code",
   "execution_count": 1,
   "metadata": {},
   "outputs": [],
   "source": [
    "import pandas as pd\n",
    "import seaborn as sns\n",
    "import matplotlib.pyplot as plt\n",
    "import biom"
   ]
  },
  {
   "cell_type": "code",
   "execution_count": null,
   "metadata": {},
   "outputs": [],
   "source": []
  },
  {
   "cell_type": "code",
   "execution_count": null,
   "metadata": {},
   "outputs": [],
   "source": [
    "def merge_df(filenames, metadata=None, var=None):\n",
    "    smpl = pd.merge(pd.read_csv(filenames[1]), pd.read_csv(filenames[2]), on = 'sample')\n",
    "    for i in range(len(filenames)-1):\n",
    "        smpl = pd.merge(smpl, pd.read_csv(filenames[i+2]), on = 'sample')\n",
    "        if metadata:\n",
    "            smpl.rename(columns={'sample':'sample-id'}, inplace=True)\n",
    "            smpl = pd.merge(smpl,pd.read_csv(metadata), on = 'sample-id')\n",
    "            if var:\n",
    "                sns.pairplot(smpl, hue = 'var')\n",
    "            else: return 'Variable must be provided if metadata'\n",
    "        else: return sns.pairplot(smpl)\n",
    "    return"
   ]
  }
 ],
 "metadata": {
  "kernelspec": {
   "display_name": "Python [conda env:qiime2-2019.7]",
   "language": "python",
   "name": "conda-env-qiime2-2019.7-py"
  },
  "language_info": {
   "codemirror_mode": {
    "name": "ipython",
    "version": 3
   },
   "file_extension": ".py",
   "mimetype": "text/x-python",
   "name": "python",
   "nbconvert_exporter": "python",
   "pygments_lexer": "ipython3",
   "version": "3.6.7"
  }
 },
 "nbformat": 4,
 "nbformat_minor": 2
}
