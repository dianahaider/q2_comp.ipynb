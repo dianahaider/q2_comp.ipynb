{
 "cells": [
  {
   "cell_type": "markdown",
   "metadata": {},
   "source": [
    "# Barplot for denoising stats\n",
    "Can only compare within dada2 for now but gives a nice barplot to follow how many sequences are lost at each denoising step "
   ]
  },
  {
   "cell_type": "code",
   "execution_count": 1,
   "metadata": {},
   "outputs": [],
   "source": [
    "files = ['~/Documents/didi/2stats.tsv','~/Documents/didi/11stats.tsv']"
   ]
  },
  {
   "cell_type": "code",
   "execution_count": 19,
   "metadata": {},
   "outputs": [],
   "source": [
    "files = ['/Users/Diana/data/stats/2stats.tsv','/Users/Diana/data/stats/11stats.tsv']"
   ]
  },
  {
   "cell_type": "code",
   "execution_count": 20,
   "metadata": {},
   "outputs": [],
   "source": [
    "#libraries\n",
    "import pandas as pd\n",
    "import numpy as np\n",
    "import matplotlib.pyplot as plt\n",
    "from matplotlib import rc"
   ]
  },
  {
   "cell_type": "code",
   "execution_count": 21,
   "metadata": {},
   "outputs": [],
   "source": [
    "def load_df(filenames):\n",
    "    stats = []\n",
    "    for filename in filenames:\n",
    "        stats.append( (pd.read_csv(filename, sep=\"\\t\"), filename) )\n",
    "    return stats"
   ]
  },
  {
   "cell_type": "code",
   "execution_count": 22,
   "metadata": {},
   "outputs": [],
   "source": [
    "stats = load_df(files)"
   ]
  },
  {
   "cell_type": "code",
   "execution_count": 23,
   "metadata": {},
   "outputs": [],
   "source": [
    "def clean( lst ):\n",
    "    # lst is a tuple of (dataframe, nameofdf) and cols is the name of the columns\n",
    "    sums = pd.DataFrame(data=None, columns=['Input','Filtered','Denoised','Merged','Non-chimeric']) #, columns=cols) #sums is the df with the sums for each denoising steps\n",
    "    filenames = []\n",
    "    for t in lst:\n",
    "        df = t[0].drop(t[0].index[0])\n",
    "        df.iloc[:,1:6] = df.iloc[:,1:6].apply(pd.to_numeric)\n",
    "        sums = sums.append(df.iloc[:,1:6].sum(), ignore_index=True)\n",
    "        filenames.append(t[1])\n",
    "    index = pd.DataFrame({'id':filenames})\n",
    "    sums = sums.join(index)\n",
    "    sums = sums.set_index(\"id\")\n",
    "    \n",
    "    rc('font', weight='bold') # y-axis in bold\n",
    "    r = [0,1] # The position of the bars on the x-axis\n",
    "    names = files #of groups\n",
    "    barWidth = 1\n",
    "    Step=['Input','Filtered','Denoised','Merged','Non-chimeric']\n",
    "\n",
    "    plt.bar(r, sums.loc[:,'input'], color='darkorange', edgecolor='white', width=barWidth)\n",
    "    plt.bar(r, sums.loc[:,'filtered'], color='orange', edgecolor='white', width=barWidth)\n",
    "    plt.bar(r, sums.loc[:,'denoised'], color='sandybrown', edgecolor='white', width=barWidth)\n",
    "    plt.bar(r, sums.loc[:,'merged'], color='navajowhite', edgecolor='white', width=barWidth)\n",
    "    plt.bar(r, sums.loc[:,'non-chimeric'], color='blanchedalmond', edgecolor='white', width=barWidth)\n",
    "    \n",
    "    # Custom axis\n",
    "    plt.xticks(r, names, fontweight='bold')\n",
    "    plt.xlabel(\"Method\")\n",
    "    plt.ylabel(\"Sequencing depth\")\n",
    "    \n",
    "    # Show graphic\n",
    "    plt.legend(Step,bbox_to_anchor=(1.05, 1), loc=2, borderaxespad=0.)\n",
    "    \n",
    "    return plt.show()"
   ]
  },
  {
   "cell_type": "code",
   "execution_count": 24,
   "metadata": {
    "scrolled": true
   },
   "outputs": [
    {
     "data": {
      "image/png": "[encoded data removed]",
      "text/plain": [
       "<Figure size 432x288 with 1 Axes>"
      ]
     },
     "metadata": {
      "needs_background": "light"
     },
     "output_type": "display_data"
    }
   ],
   "source": [
    "cleaned = clean(stats)\n",
    "cleaned"
   ]
  },
  {
   "cell_type": "code",
   "execution_count": null,
   "metadata": {},
   "outputs": [],
   "source": []
  }
 ],
 "metadata": {
  "kernelspec": {
   "display_name": "Python 3",
   "language": "python",
   "name": "python3"
  },
  "language_info": {
   "codemirror_mode": {
    "name": "ipython",
    "version": 3
   },
   "file_extension": ".py",
   "mimetype": "text/x-python",
   "name": "python",
   "nbconvert_exporter": "python",
   "pygments_lexer": "ipython3",
   "version": "3.7.3"
  }
 },
 "nbformat": 4,
 "nbformat_minor": 2
}
