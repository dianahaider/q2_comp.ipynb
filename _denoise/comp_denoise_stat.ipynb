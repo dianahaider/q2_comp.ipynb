{
 "cells": [
  {
   "cell_type": "markdown",
   "metadata": {},
   "source": [
    "# Barplot for denoising stats\n",
    "Can only compare within dada2 for now but gives a nice barplot to follow how many sequences are lost at each denoising step "
   ]
  },
  {
   "cell_type": "code",
   "execution_count": 19,
   "metadata": {},
   "outputs": [],
   "source": [
    "#files = ['~/qbb2/tables/statss/2stats.tsv','~/qbb2/tables/statss/11stats.tsv']\n",
    "import glob\n",
    "files = glob.glob('/home/diana/qbb2/tables/statss/*.tsv')"
   ]
  },
  {
   "cell_type": "code",
   "execution_count": 27,
   "metadata": {},
   "outputs": [],
   "source": [
    "#libraries\n",
    "import pandas as pd\n",
    "import numpy as np\n",
    "import matplotlib.pyplot as plt\n",
    "from matplotlib import rc\n",
    "import seaborn as sns\n",
    "import statistics"
   ]
  },
  {
   "cell_type": "code",
   "execution_count": null,
   "metadata": {},
   "outputs": [],
   "source": [
    "def load_df(filenames):\n",
    "    stats = []\n",
    "    for filename in filenames:\n",
    "        df = pd.read_csv(filename, sep='\\t')\n",
    "        stats.append(df)\n",
    "    return stats"
   ]
  },
  {
   "cell_type": "code",
   "execution_count": 23,
   "metadata": {},
   "outputs": [
    {
     "data": {
      "text/html": [
       "<div>\n",
       "<style scoped>\n",
       "    .dataframe tbody tr th:only-of-type {\n",
       "        vertical-align: middle;\n",
       "    }\n",
       "\n",
       "    .dataframe tbody tr th {\n",
       "        vertical-align: top;\n",
       "    }\n",
       "\n",
       "    .dataframe thead th {\n",
       "        text-align: right;\n",
       "    }\n",
       "</style>\n",
       "<table border=\"1\" class=\"dataframe\">\n",
       "  <thead>\n",
       "    <tr style=\"text-align: right;\">\n",
       "      <th></th>\n",
       "      <th>denoised</th>\n",
       "      <th>filtered</th>\n",
       "      <th>id</th>\n",
       "      <th>input</th>\n",
       "      <th>merged</th>\n",
       "      <th>non-chimeric</th>\n",
       "      <th>sample-id</th>\n",
       "      <th>% of Reads Remaining</th>\n",
       "    </tr>\n",
       "  </thead>\n",
       "  <tbody>\n",
       "    <tr>\n",
       "      <td>1</td>\n",
       "      <td>20919.0</td>\n",
       "      <td>23637.0</td>\n",
       "      <td>/home/diana/qbb2/tables/statss/4stats.tsv</td>\n",
       "      <td>29380.0</td>\n",
       "      <td>17457.0</td>\n",
       "      <td>6988.0</td>\n",
       "      <td>16SV6-BB16.01A</td>\n",
       "      <td>23.784888</td>\n",
       "    </tr>\n",
       "    <tr>\n",
       "      <td>2</td>\n",
       "      <td>22279.0</td>\n",
       "      <td>25587.0</td>\n",
       "      <td>/home/diana/qbb2/tables/statss/4stats.tsv</td>\n",
       "      <td>33202.0</td>\n",
       "      <td>18171.0</td>\n",
       "      <td>6884.0</td>\n",
       "      <td>16SV6-BB16.02A</td>\n",
       "      <td>20.733691</td>\n",
       "    </tr>\n",
       "    <tr>\n",
       "      <td>3</td>\n",
       "      <td>24906.0</td>\n",
       "      <td>28219.0</td>\n",
       "      <td>/home/diana/qbb2/tables/statss/4stats.tsv</td>\n",
       "      <td>36188.0</td>\n",
       "      <td>21500.0</td>\n",
       "      <td>6756.0</td>\n",
       "      <td>16SV6-BB16.03A</td>\n",
       "      <td>18.669172</td>\n",
       "    </tr>\n",
       "    <tr>\n",
       "      <td>4</td>\n",
       "      <td>27227.0</td>\n",
       "      <td>29579.0</td>\n",
       "      <td>/home/diana/qbb2/tables/statss/4stats.tsv</td>\n",
       "      <td>37793.0</td>\n",
       "      <td>23462.0</td>\n",
       "      <td>9956.0</td>\n",
       "      <td>16SV6-BB16.04A</td>\n",
       "      <td>26.343503</td>\n",
       "    </tr>\n",
       "    <tr>\n",
       "      <td>5</td>\n",
       "      <td>21475.0</td>\n",
       "      <td>24497.0</td>\n",
       "      <td>/home/diana/qbb2/tables/statss/4stats.tsv</td>\n",
       "      <td>31911.0</td>\n",
       "      <td>17759.0</td>\n",
       "      <td>6079.0</td>\n",
       "      <td>16SV6-BB16.05A</td>\n",
       "      <td>19.049857</td>\n",
       "    </tr>\n",
       "    <tr>\n",
       "      <td>...</td>\n",
       "      <td>...</td>\n",
       "      <td>...</td>\n",
       "      <td>...</td>\n",
       "      <td>...</td>\n",
       "      <td>...</td>\n",
       "      <td>...</td>\n",
       "      <td>...</td>\n",
       "      <td>...</td>\n",
       "    </tr>\n",
       "    <tr>\n",
       "      <td>196</td>\n",
       "      <td>23741.0</td>\n",
       "      <td>24963.0</td>\n",
       "      <td>/home/diana/qbb2/tables/statss/13stats.tsv</td>\n",
       "      <td>29137.0</td>\n",
       "      <td>20575.0</td>\n",
       "      <td>16780.0</td>\n",
       "      <td>16SV6-BB16.8C</td>\n",
       "      <td>57.590006</td>\n",
       "    </tr>\n",
       "    <tr>\n",
       "      <td>197</td>\n",
       "      <td>23631.0</td>\n",
       "      <td>24819.0</td>\n",
       "      <td>/home/diana/qbb2/tables/statss/13stats.tsv</td>\n",
       "      <td>28725.0</td>\n",
       "      <td>20216.0</td>\n",
       "      <td>18081.0</td>\n",
       "      <td>16SV6-BB16.8D</td>\n",
       "      <td>62.945170</td>\n",
       "    </tr>\n",
       "    <tr>\n",
       "      <td>198</td>\n",
       "      <td>20722.0</td>\n",
       "      <td>22057.0</td>\n",
       "      <td>/home/diana/qbb2/tables/statss/13stats.tsv</td>\n",
       "      <td>25685.0</td>\n",
       "      <td>17679.0</td>\n",
       "      <td>13604.0</td>\n",
       "      <td>16SV6-BB16.9B</td>\n",
       "      <td>52.964765</td>\n",
       "    </tr>\n",
       "    <tr>\n",
       "      <td>199</td>\n",
       "      <td>26101.0</td>\n",
       "      <td>27483.0</td>\n",
       "      <td>/home/diana/qbb2/tables/statss/13stats.tsv</td>\n",
       "      <td>31792.0</td>\n",
       "      <td>22124.0</td>\n",
       "      <td>17079.0</td>\n",
       "      <td>16SV6-BB16.9C</td>\n",
       "      <td>53.721062</td>\n",
       "    </tr>\n",
       "    <tr>\n",
       "      <td>200</td>\n",
       "      <td>28495.0</td>\n",
       "      <td>29956.0</td>\n",
       "      <td>/home/diana/qbb2/tables/statss/13stats.tsv</td>\n",
       "      <td>34543.0</td>\n",
       "      <td>24957.0</td>\n",
       "      <td>22527.0</td>\n",
       "      <td>16SV6-BB16.9D</td>\n",
       "      <td>65.214370</td>\n",
       "    </tr>\n",
       "  </tbody>\n",
       "</table>\n",
       "<p>1866530 rows × 8 columns</p>\n",
       "</div>"
      ],
      "text/plain": [
       "     denoised  filtered                                          id    input  \\\n",
       "1     20919.0   23637.0   /home/diana/qbb2/tables/statss/4stats.tsv  29380.0   \n",
       "2     22279.0   25587.0   /home/diana/qbb2/tables/statss/4stats.tsv  33202.0   \n",
       "3     24906.0   28219.0   /home/diana/qbb2/tables/statss/4stats.tsv  36188.0   \n",
       "4     27227.0   29579.0   /home/diana/qbb2/tables/statss/4stats.tsv  37793.0   \n",
       "5     21475.0   24497.0   /home/diana/qbb2/tables/statss/4stats.tsv  31911.0   \n",
       "..        ...       ...                                         ...      ...   \n",
       "196   23741.0   24963.0  /home/diana/qbb2/tables/statss/13stats.tsv  29137.0   \n",
       "197   23631.0   24819.0  /home/diana/qbb2/tables/statss/13stats.tsv  28725.0   \n",
       "198   20722.0   22057.0  /home/diana/qbb2/tables/statss/13stats.tsv  25685.0   \n",
       "199   26101.0   27483.0  /home/diana/qbb2/tables/statss/13stats.tsv  31792.0   \n",
       "200   28495.0   29956.0  /home/diana/qbb2/tables/statss/13stats.tsv  34543.0   \n",
       "\n",
       "      merged  non-chimeric       sample-id  % of Reads Remaining  \n",
       "1    17457.0        6988.0  16SV6-BB16.01A             23.784888  \n",
       "2    18171.0        6884.0  16SV6-BB16.02A             20.733691  \n",
       "3    21500.0        6756.0  16SV6-BB16.03A             18.669172  \n",
       "4    23462.0        9956.0  16SV6-BB16.04A             26.343503  \n",
       "5    17759.0        6079.0  16SV6-BB16.05A             19.049857  \n",
       "..       ...           ...             ...                   ...  \n",
       "196  20575.0       16780.0   16SV6-BB16.8C             57.590006  \n",
       "197  20216.0       18081.0   16SV6-BB16.8D             62.945170  \n",
       "198  17679.0       13604.0   16SV6-BB16.9B             52.964765  \n",
       "199  22124.0       17079.0   16SV6-BB16.9C             53.721062  \n",
       "200  24957.0       22527.0   16SV6-BB16.9D             65.214370  \n",
       "\n",
       "[1866530 rows x 8 columns]"
      ]
     },
     "execution_count": 23,
     "metadata": {},
     "output_type": "execute_result"
    }
   ],
   "source": [
    "stats = load_df(files)\n",
    "stats = pd.join(stats, sort = True)\n",
    "stats = stats[list(stats.columns[-7:])]\n",
    "stats = stats.drop(0)\n",
    "numeric = ['denoised', 'filtered',  'input', 'merged', 'non-chimeric']\n",
    "stats[numeric] = stats[numeric].apply(pd.to_numeric)\n",
    "stats['% of Reads Remaining'] = stats['non-chimeric']/stats['input']*100\n",
    "\n",
    "stats"
   ]
  },
  {
   "cell_type": "code",
   "execution_count": 32,
   "metadata": {},
   "outputs": [
    {
     "ename": "AttributeError",
     "evalue": "'function' object has no attribute 'to_dataframe'",
     "output_type": "error",
     "traceback": [
      "\u001b[0;31m---------------------------------------------------------------------------\u001b[0m",
      "\u001b[0;31mAttributeError\u001b[0m                            Traceback (most recent call last)",
      "\u001b[0;32m<ipython-input-32-1ff583d23d16>\u001b[0m in \u001b[0;36m<module>\u001b[0;34m\u001b[0m\n\u001b[1;32m      1\u001b[0m \u001b[0mdf\u001b[0m \u001b[0;34m=\u001b[0m \u001b[0mstats\u001b[0m\u001b[0;34m[\u001b[0m\u001b[0;34m[\u001b[0m\u001b[0;34m'sample-id'\u001b[0m\u001b[0;34m,\u001b[0m\u001b[0;34m'% of Reads Remaining'\u001b[0m\u001b[0;34m,\u001b[0m\u001b[0;34m'id'\u001b[0m\u001b[0;34m]\u001b[0m\u001b[0;34m]\u001b[0m\u001b[0;34m\u001b[0m\u001b[0;34m\u001b[0m\u001b[0m\n\u001b[0;32m----> 2\u001b[0;31m \u001b[0mdf\u001b[0m \u001b[0;34m=\u001b[0m \u001b[0mdf\u001b[0m\u001b[0;34m.\u001b[0m\u001b[0mmelt\u001b[0m\u001b[0;34m.\u001b[0m\u001b[0mto_dataframe\u001b[0m\u001b[0;34m(\u001b[0m\u001b[0;34m)\u001b[0m\u001b[0;34m\u001b[0m\u001b[0;34m\u001b[0m\u001b[0m\n\u001b[0m\u001b[1;32m      3\u001b[0m \u001b[0;34m\u001b[0m\u001b[0m\n\u001b[1;32m      4\u001b[0m \u001b[0;31m#df = df.groupby('sample-id').mean()\u001b[0m\u001b[0;34m\u001b[0m\u001b[0;34m\u001b[0m\u001b[0;34m\u001b[0m\u001b[0m\n\u001b[1;32m      5\u001b[0m \u001b[0;34m\u001b[0m\u001b[0m\n",
      "\u001b[0;31mAttributeError\u001b[0m: 'function' object has no attribute 'to_dataframe'"
     ]
    }
   ],
   "source": [
    "df = stats[['sample-id','% of Reads Remaining','id']]\n",
    "df = df.melt.to_dataframe()\n",
    "\n",
    "#df = df.groupby('sample-id').mean()\n",
    "\n",
    "\n",
    "df"
   ]
  },
  {
   "cell_type": "code",
   "execution_count": 21,
   "metadata": {},
   "outputs": [],
   "source": [
    "def load_df(filenames):\n",
    "    stats = []\n",
    "    for filename in filenames:\n",
    "        df = pd.read_csv(filename, sep='\\t')\n",
    "        df['id'] = filename \n",
    "        stats.append(df)\n",
    "    return stats"
   ]
  },
  {
   "cell_type": "code",
   "execution_count": 235,
   "metadata": {},
   "outputs": [
    {
     "name": "stderr",
     "output_type": "stream",
     "text": [
      "/home/diana/miniconda3/lib/python3.7/site-packages/ipykernel_launcher.py:2: FutureWarning: Sorting because non-concatenation axis is not aligned. A future version\n",
      "of pandas will change to not sort by default.\n",
      "\n",
      "To accept the future behavior, pass 'sort=False'.\n",
      "\n",
      "To retain the current behavior and silence the warning, pass 'sort=True'.\n",
      "\n",
      "  \n"
     ]
    }
   ],
   "source": [
    "stats = load_df(files)\n",
    "stats = pd.concat(stats)\n",
    "stats = stats[list(stats.columns[-7:])]\n",
    "stats = stats.drop(0)\n",
    "numeric = ['denoised', 'filtered',  'input', 'merged', 'non-chimeric']\n",
    "stats[numeric] = stats[numeric].apply(pd.to_numeric)\n",
    "\n",
    "##fin stuff\n",
    "stats = stats.groupby('id').sum()\n",
    "stats = stats.drop('/home/diana/qbb2/tables/statss/stats.tsv')\n",
    "df = pd.melt(stats.reset_index(), id_vars='id', var_name='step', value_name='read_number')\n",
    "input_read_num = df['read_number'].max()\n",
    "df['% of Reads Remaining'] = df['read_number'] / input_read_num * 100\n",
    "step_order = {'input': 0, 'filtered': 1, 'denoised': 2, 'merged': 3, 'non-chimeric': 4}\n",
    "df['order'] = df['step'].apply(lambda x: step_order[x])\n",
    "df = df.reset_index()"
   ]
  },
  {
   "cell_type": "code",
   "execution_count": 236,
   "metadata": {},
   "outputs": [],
   "source": [
    "df['Run Number'] = df['id'].str.split('/').str.get(-1).str.replace('stats.tsv', '')\n",
    "df['Run Number'] = \"Run \" + df['Run Number']\n",
    "hue_order = df.query('step == \"non-chimeric\"').sort_values('% of Reads Remaining', ascending=False)['Run Number']"
   ]
  },
  {
   "cell_type": "code",
   "execution_count": 259,
   "metadata": {},
   "outputs": [],
   "source": [
    "sns.set_style('whitegrid')\n",
    "sns.set_context('talk')"
   ]
  },
  {
   "cell_type": "code",
   "execution_count": 260,
   "metadata": {},
   "outputs": [
    {
     "data": {
      "image/png": "[encoded data removed]",
      "text/plain": [
       "<Figure size 432x288 with 1 Axes>"
      ]
     },
     "metadata": {},
     "output_type": "display_data"
    }
   ],
   "source": [
    "sns.lineplot(data = df, y='% of Reads Remaining', x='order', hue='Run Number')\n",
    "#plt.legend(bbox_to_anchor=(1.5,1.5))\n",
    "plt.legend('')\n",
    "plt.ylim(0, 100)\n",
    "plt.xlim(0, 4)\n",
    "plt.xticks([x/2 for x in range(0, 9)] , ['Input', '', 'Filtered', '', 'Denoised','', 'Merged', '', 'Non-Chimeric'])\n",
    "plt.xlabel('Processing Steps')\n",
    "plt.title('Parameter Settings Affect Data Loss')\n",
    "plt.savefig('diana.svg')"
   ]
  },
  {
   "cell_type": "code",
   "execution_count": 242,
   "metadata": {},
   "outputs": [
    {
     "data": {
      "text/plain": [
       "[0.0, 0.5, 1.0, 1.5, 2.0, 2.5, 3.0, 3.5, 4.0]"
      ]
     },
     "execution_count": 242,
     "metadata": {},
     "output_type": "execute_result"
    }
   ],
   "source": []
  },
  {
   "cell_type": "code",
   "execution_count": 14,
   "metadata": {},
   "outputs": [],
   "source": [
    "def clean( lst ):\n",
    "    # lst is a tuple of (dataframe, nameofdf) and cols is the name of the columns\n",
    "    sums = pd.DataFrame(data=None, columns=['Input','Filtered','Denoised','Merged','Non-chimeric']) #, columns=cols) #sums is the df with the sums for each denoising steps\n",
    "    filenames = []\n",
    "    for t in lst:\n",
    "        df = t[0].drop(t[0].index[0])\n",
    "        df.iloc[:,1:6] = df.iloc[:,1:6].apply(pd.to_numeric)\n",
    "        sums = sums.append(df.iloc[:,1:6].sum(), ignore_index=True)\n",
    "        filenames.append(t[1])\n",
    "    index = pd.DataFrame({'id':filenames})\n",
    "    sums = sums.join(index)\n",
    "    sums = sums.set_index(\"id\")\n",
    "    \n",
    "    rc('font', weight='bold') # y-axis in bold\n",
    "    r = [0,1] # The position of the bars on the x-axis\n",
    "    names = files #of groups\n",
    "    barWidth = 1\n",
    "    Step=['Input','Filtered','Denoised','Merged','Non-chimeric']\n",
    "    color = ['darkorange','orange','sandybrown','navajowhite','blanchedalmond']\n",
    "\n",
    "    plt.bar(r, sums.loc[:,'input'], color='darkorange', edgecolor='white', width=barWidth)\n",
    "    plt.bar(r, sums.loc[:,'filtered'], color='orange', edgecolor='white', width=barWidth)\n",
    "    plt.bar(r, sums.loc[:,'denoised'], color='sandybrown', edgecolor='white', width=barWidth)\n",
    "    plt.bar(r, sums.loc[:,'merged'], color='navajowhite', edgecolor='white', width=barWidth)\n",
    "    plt.bar(r, sums.loc[:,'non-chimeric'], color='blanchedalmond', edgecolor='white', width=barWidth)\n",
    "    \n",
    "    # Custom axis\n",
    "    plt.xticks(r, ['Trimming 1', 'Parameter 2'], fontweight='bold')\n",
    "    plt.xlabel(\"Method\")\n",
    "    plt.ylabel(\"Sequencing depth\")\n",
    "    \n",
    "    # Show graphic\n",
    "    plt.legend(Step,bbox_to_anchor=(1.05, 1), loc=2, borderaxespad=0.)\n",
    "    \n",
    "    return sums, plt.show()"
   ]
  },
  {
   "cell_type": "code",
   "execution_count": 16,
   "metadata": {},
   "outputs": [
    {
     "ename": "AttributeError",
     "evalue": "'str' object has no attribute 'drop'",
     "output_type": "error",
     "traceback": [
      "\u001b[0;31m---------------------------------------------------------------------------\u001b[0m",
      "\u001b[0;31mAttributeError\u001b[0m                            Traceback (most recent call last)",
      "\u001b[0;32m<ipython-input-16-5f41e206270c>\u001b[0m in \u001b[0;36m<module>\u001b[0;34m\u001b[0m\n\u001b[0;32m----> 1\u001b[0;31m \u001b[0mclean\u001b[0m\u001b[0;34m(\u001b[0m\u001b[0mfiles\u001b[0m\u001b[0;34m)\u001b[0m\u001b[0;34m\u001b[0m\u001b[0;34m\u001b[0m\u001b[0m\n\u001b[0m",
      "\u001b[0;32m<ipython-input-14-6c1cc3bebd88>\u001b[0m in \u001b[0;36mclean\u001b[0;34m(lst)\u001b[0m\n\u001b[1;32m      4\u001b[0m     \u001b[0mfilenames\u001b[0m \u001b[0;34m=\u001b[0m \u001b[0;34m[\u001b[0m\u001b[0;34m]\u001b[0m\u001b[0;34m\u001b[0m\u001b[0;34m\u001b[0m\u001b[0m\n\u001b[1;32m      5\u001b[0m     \u001b[0;32mfor\u001b[0m \u001b[0mt\u001b[0m \u001b[0;32min\u001b[0m \u001b[0mlst\u001b[0m\u001b[0;34m:\u001b[0m\u001b[0;34m\u001b[0m\u001b[0;34m\u001b[0m\u001b[0m\n\u001b[0;32m----> 6\u001b[0;31m         \u001b[0mdf\u001b[0m \u001b[0;34m=\u001b[0m \u001b[0mt\u001b[0m\u001b[0;34m[\u001b[0m\u001b[0;36m0\u001b[0m\u001b[0;34m]\u001b[0m\u001b[0;34m.\u001b[0m\u001b[0mdrop\u001b[0m\u001b[0;34m(\u001b[0m\u001b[0mt\u001b[0m\u001b[0;34m[\u001b[0m\u001b[0;36m0\u001b[0m\u001b[0;34m]\u001b[0m\u001b[0;34m.\u001b[0m\u001b[0mindex\u001b[0m\u001b[0;34m[\u001b[0m\u001b[0;36m0\u001b[0m\u001b[0;34m]\u001b[0m\u001b[0;34m)\u001b[0m\u001b[0;34m\u001b[0m\u001b[0;34m\u001b[0m\u001b[0m\n\u001b[0m\u001b[1;32m      7\u001b[0m         \u001b[0mdf\u001b[0m\u001b[0;34m.\u001b[0m\u001b[0miloc\u001b[0m\u001b[0;34m[\u001b[0m\u001b[0;34m:\u001b[0m\u001b[0;34m,\u001b[0m\u001b[0;36m1\u001b[0m\u001b[0;34m:\u001b[0m\u001b[0;36m6\u001b[0m\u001b[0;34m]\u001b[0m \u001b[0;34m=\u001b[0m \u001b[0mdf\u001b[0m\u001b[0;34m.\u001b[0m\u001b[0miloc\u001b[0m\u001b[0;34m[\u001b[0m\u001b[0;34m:\u001b[0m\u001b[0;34m,\u001b[0m\u001b[0;36m1\u001b[0m\u001b[0;34m:\u001b[0m\u001b[0;36m6\u001b[0m\u001b[0;34m]\u001b[0m\u001b[0;34m.\u001b[0m\u001b[0mapply\u001b[0m\u001b[0;34m(\u001b[0m\u001b[0mpd\u001b[0m\u001b[0;34m.\u001b[0m\u001b[0mto_numeric\u001b[0m\u001b[0;34m)\u001b[0m\u001b[0;34m\u001b[0m\u001b[0;34m\u001b[0m\u001b[0m\n\u001b[1;32m      8\u001b[0m         \u001b[0msums\u001b[0m \u001b[0;34m=\u001b[0m \u001b[0msums\u001b[0m\u001b[0;34m.\u001b[0m\u001b[0mappend\u001b[0m\u001b[0;34m(\u001b[0m\u001b[0mdf\u001b[0m\u001b[0;34m.\u001b[0m\u001b[0miloc\u001b[0m\u001b[0;34m[\u001b[0m\u001b[0;34m:\u001b[0m\u001b[0;34m,\u001b[0m\u001b[0;36m1\u001b[0m\u001b[0;34m:\u001b[0m\u001b[0;36m6\u001b[0m\u001b[0;34m]\u001b[0m\u001b[0;34m.\u001b[0m\u001b[0msum\u001b[0m\u001b[0;34m(\u001b[0m\u001b[0;34m)\u001b[0m\u001b[0;34m,\u001b[0m \u001b[0mignore_index\u001b[0m\u001b[0;34m=\u001b[0m\u001b[0;32mTrue\u001b[0m\u001b[0;34m)\u001b[0m\u001b[0;34m\u001b[0m\u001b[0;34m\u001b[0m\u001b[0m\n",
      "\u001b[0;31mAttributeError\u001b[0m: 'str' object has no attribute 'drop'"
     ]
    }
   ],
   "source": [
    "clean(files)"
   ]
  },
  {
   "cell_type": "code",
   "execution_count": 15,
   "metadata": {
    "scrolled": true
   },
   "outputs": [
    {
     "ename": "AttributeError",
     "evalue": "'str' object has no attribute 'drop'",
     "output_type": "error",
     "traceback": [
      "\u001b[0;31m---------------------------------------------------------------------------\u001b[0m",
      "\u001b[0;31mAttributeError\u001b[0m                            Traceback (most recent call last)",
      "\u001b[0;32m<ipython-input-15-c63e1ff491df>\u001b[0m in \u001b[0;36m<module>\u001b[0;34m\u001b[0m\n\u001b[0;32m----> 1\u001b[0;31m \u001b[0msums\u001b[0m\u001b[0;34m,\u001b[0m \u001b[0mcleaned\u001b[0m \u001b[0;34m=\u001b[0m \u001b[0mclean\u001b[0m\u001b[0;34m(\u001b[0m\u001b[0mstats\u001b[0m\u001b[0;34m)\u001b[0m\u001b[0;34m\u001b[0m\u001b[0;34m\u001b[0m\u001b[0m\n\u001b[0m\u001b[1;32m      2\u001b[0m \u001b[0mcleaned\u001b[0m\u001b[0;34m\u001b[0m\u001b[0;34m\u001b[0m\u001b[0m\n\u001b[1;32m      3\u001b[0m \u001b[0mplt\u001b[0m\u001b[0;34m.\u001b[0m\u001b[0msavefig\u001b[0m\u001b[0;34m(\u001b[0m\u001b[0;34m'blop.png'\u001b[0m\u001b[0;34m,\u001b[0m \u001b[0mdpi\u001b[0m\u001b[0;34m=\u001b[0m\u001b[0;36m300\u001b[0m\u001b[0;34m)\u001b[0m\u001b[0;34m\u001b[0m\u001b[0;34m\u001b[0m\u001b[0m\n",
      "\u001b[0;32m<ipython-input-14-6c1cc3bebd88>\u001b[0m in \u001b[0;36mclean\u001b[0;34m(lst)\u001b[0m\n\u001b[1;32m      4\u001b[0m     \u001b[0mfilenames\u001b[0m \u001b[0;34m=\u001b[0m \u001b[0;34m[\u001b[0m\u001b[0;34m]\u001b[0m\u001b[0;34m\u001b[0m\u001b[0;34m\u001b[0m\u001b[0m\n\u001b[1;32m      5\u001b[0m     \u001b[0;32mfor\u001b[0m \u001b[0mt\u001b[0m \u001b[0;32min\u001b[0m \u001b[0mlst\u001b[0m\u001b[0;34m:\u001b[0m\u001b[0;34m\u001b[0m\u001b[0;34m\u001b[0m\u001b[0m\n\u001b[0;32m----> 6\u001b[0;31m         \u001b[0mdf\u001b[0m \u001b[0;34m=\u001b[0m \u001b[0mt\u001b[0m\u001b[0;34m[\u001b[0m\u001b[0;36m0\u001b[0m\u001b[0;34m]\u001b[0m\u001b[0;34m.\u001b[0m\u001b[0mdrop\u001b[0m\u001b[0;34m(\u001b[0m\u001b[0mt\u001b[0m\u001b[0;34m[\u001b[0m\u001b[0;36m0\u001b[0m\u001b[0;34m]\u001b[0m\u001b[0;34m.\u001b[0m\u001b[0mindex\u001b[0m\u001b[0;34m[\u001b[0m\u001b[0;36m0\u001b[0m\u001b[0;34m]\u001b[0m\u001b[0;34m)\u001b[0m\u001b[0;34m\u001b[0m\u001b[0;34m\u001b[0m\u001b[0m\n\u001b[0m\u001b[1;32m      7\u001b[0m         \u001b[0mdf\u001b[0m\u001b[0;34m.\u001b[0m\u001b[0miloc\u001b[0m\u001b[0;34m[\u001b[0m\u001b[0;34m:\u001b[0m\u001b[0;34m,\u001b[0m\u001b[0;36m1\u001b[0m\u001b[0;34m:\u001b[0m\u001b[0;36m6\u001b[0m\u001b[0;34m]\u001b[0m \u001b[0;34m=\u001b[0m \u001b[0mdf\u001b[0m\u001b[0;34m.\u001b[0m\u001b[0miloc\u001b[0m\u001b[0;34m[\u001b[0m\u001b[0;34m:\u001b[0m\u001b[0;34m,\u001b[0m\u001b[0;36m1\u001b[0m\u001b[0;34m:\u001b[0m\u001b[0;36m6\u001b[0m\u001b[0;34m]\u001b[0m\u001b[0;34m.\u001b[0m\u001b[0mapply\u001b[0m\u001b[0;34m(\u001b[0m\u001b[0mpd\u001b[0m\u001b[0;34m.\u001b[0m\u001b[0mto_numeric\u001b[0m\u001b[0;34m)\u001b[0m\u001b[0;34m\u001b[0m\u001b[0;34m\u001b[0m\u001b[0m\n\u001b[1;32m      8\u001b[0m         \u001b[0msums\u001b[0m \u001b[0;34m=\u001b[0m \u001b[0msums\u001b[0m\u001b[0;34m.\u001b[0m\u001b[0mappend\u001b[0m\u001b[0;34m(\u001b[0m\u001b[0mdf\u001b[0m\u001b[0;34m.\u001b[0m\u001b[0miloc\u001b[0m\u001b[0;34m[\u001b[0m\u001b[0;34m:\u001b[0m\u001b[0;34m,\u001b[0m\u001b[0;36m1\u001b[0m\u001b[0;34m:\u001b[0m\u001b[0;36m6\u001b[0m\u001b[0;34m]\u001b[0m\u001b[0;34m.\u001b[0m\u001b[0msum\u001b[0m\u001b[0;34m(\u001b[0m\u001b[0;34m)\u001b[0m\u001b[0;34m,\u001b[0m \u001b[0mignore_index\u001b[0m\u001b[0;34m=\u001b[0m\u001b[0;32mTrue\u001b[0m\u001b[0;34m)\u001b[0m\u001b[0;34m\u001b[0m\u001b[0;34m\u001b[0m\u001b[0m\n",
      "\u001b[0;31mAttributeError\u001b[0m: 'str' object has no attribute 'drop'"
     ]
    }
   ],
   "source": [
    "sums, cleaned = clean(stats)\n",
    "cleaned\n",
    "plt.savefig('blop.png', dpi=300)"
   ]
  },
  {
   "cell_type": "code",
   "execution_count": null,
   "metadata": {},
   "outputs": [],
   "source": [
    "sns.pairplot"
   ]
  },
  {
   "cell_type": "code",
   "execution_count": 85,
   "metadata": {},
   "outputs": [],
   "source": [
    "step_order = ['input', 'filtered', 'denoised', 'merged', 'non-chimeric']\n"
   ]
  },
  {
   "cell_type": "code",
   "execution_count": 82,
   "metadata": {},
   "outputs": [],
   "source": [
    "sns.set_style('whitegrid')\n",
    "sns.set_context('notebook')"
   ]
  },
  {
   "cell_type": "code",
   "execution_count": 89,
   "metadata": {},
   "outputs": [
    {
     "data": {
      "text/html": [
       "<div>\n",
       "<style scoped>\n",
       "    .dataframe tbody tr th:only-of-type {\n",
       "        vertical-align: middle;\n",
       "    }\n",
       "\n",
       "    .dataframe tbody tr th {\n",
       "        vertical-align: top;\n",
       "    }\n",
       "\n",
       "    .dataframe thead th {\n",
       "        text-align: right;\n",
       "    }\n",
       "</style>\n",
       "<table border=\"1\" class=\"dataframe\">\n",
       "  <thead>\n",
       "    <tr style=\"text-align: right;\">\n",
       "      <th></th>\n",
       "      <th>id</th>\n",
       "      <th>Step</th>\n",
       "      <th>value</th>\n",
       "      <th>max</th>\n",
       "      <th>prop</th>\n",
       "      <th>order</th>\n",
       "    </tr>\n",
       "  </thead>\n",
       "  <tbody>\n",
       "    <tr>\n",
       "      <td>0</td>\n",
       "      <td>~/qbb2/tables/statss/2stats.tsv</td>\n",
       "      <td>denoised</td>\n",
       "      <td>4.11232e+06</td>\n",
       "      <td>5.42017e+06</td>\n",
       "      <td>75.870628</td>\n",
       "      <td>2.0</td>\n",
       "    </tr>\n",
       "    <tr>\n",
       "      <td>1</td>\n",
       "      <td>~/qbb2/tables/statss/11stats.tsv</td>\n",
       "      <td>denoised</td>\n",
       "      <td>4.30484e+06</td>\n",
       "      <td>5.42017e+06</td>\n",
       "      <td>79.422620</td>\n",
       "      <td>2.0</td>\n",
       "    </tr>\n",
       "    <tr>\n",
       "      <td>2</td>\n",
       "      <td>~/qbb2/tables/statss/2stats.tsv</td>\n",
       "      <td>filtered</td>\n",
       "      <td>4.52915e+06</td>\n",
       "      <td>5.42017e+06</td>\n",
       "      <td>83.561032</td>\n",
       "      <td>1.0</td>\n",
       "    </tr>\n",
       "    <tr>\n",
       "      <td>3</td>\n",
       "      <td>~/qbb2/tables/statss/11stats.tsv</td>\n",
       "      <td>filtered</td>\n",
       "      <td>4.5398e+06</td>\n",
       "      <td>5.42017e+06</td>\n",
       "      <td>83.757502</td>\n",
       "      <td>1.0</td>\n",
       "    </tr>\n",
       "    <tr>\n",
       "      <td>4</td>\n",
       "      <td>~/qbb2/tables/statss/2stats.tsv</td>\n",
       "      <td>input</td>\n",
       "      <td>5.42017e+06</td>\n",
       "      <td>5.42017e+06</td>\n",
       "      <td>100.000000</td>\n",
       "      <td>0.0</td>\n",
       "    </tr>\n",
       "    <tr>\n",
       "      <td>5</td>\n",
       "      <td>~/qbb2/tables/statss/11stats.tsv</td>\n",
       "      <td>input</td>\n",
       "      <td>5.42017e+06</td>\n",
       "      <td>5.42017e+06</td>\n",
       "      <td>100.000000</td>\n",
       "      <td>0.0</td>\n",
       "    </tr>\n",
       "    <tr>\n",
       "      <td>6</td>\n",
       "      <td>~/qbb2/tables/statss/2stats.tsv</td>\n",
       "      <td>merged</td>\n",
       "      <td>3.40308e+06</td>\n",
       "      <td>5.42017e+06</td>\n",
       "      <td>62.785392</td>\n",
       "      <td>3.0</td>\n",
       "    </tr>\n",
       "    <tr>\n",
       "      <td>7</td>\n",
       "      <td>~/qbb2/tables/statss/11stats.tsv</td>\n",
       "      <td>merged</td>\n",
       "      <td>3.7051e+06</td>\n",
       "      <td>5.42017e+06</td>\n",
       "      <td>68.357690</td>\n",
       "      <td>3.0</td>\n",
       "    </tr>\n",
       "    <tr>\n",
       "      <td>8</td>\n",
       "      <td>~/qbb2/tables/statss/2stats.tsv</td>\n",
       "      <td>non-chimeric</td>\n",
       "      <td>1.25452e+06</td>\n",
       "      <td>5.42017e+06</td>\n",
       "      <td>23.145436</td>\n",
       "      <td>4.0</td>\n",
       "    </tr>\n",
       "    <tr>\n",
       "      <td>9</td>\n",
       "      <td>~/qbb2/tables/statss/11stats.tsv</td>\n",
       "      <td>non-chimeric</td>\n",
       "      <td>2.99869e+06</td>\n",
       "      <td>5.42017e+06</td>\n",
       "      <td>55.324648</td>\n",
       "      <td>4.0</td>\n",
       "    </tr>\n",
       "  </tbody>\n",
       "</table>\n",
       "</div>"
      ],
      "text/plain": [
       "                                 id          Step        value          max  \\\n",
       "0   ~/qbb2/tables/statss/2stats.tsv      denoised  4.11232e+06  5.42017e+06   \n",
       "1  ~/qbb2/tables/statss/11stats.tsv      denoised  4.30484e+06  5.42017e+06   \n",
       "2   ~/qbb2/tables/statss/2stats.tsv      filtered  4.52915e+06  5.42017e+06   \n",
       "3  ~/qbb2/tables/statss/11stats.tsv      filtered   4.5398e+06  5.42017e+06   \n",
       "4   ~/qbb2/tables/statss/2stats.tsv         input  5.42017e+06  5.42017e+06   \n",
       "5  ~/qbb2/tables/statss/11stats.tsv         input  5.42017e+06  5.42017e+06   \n",
       "6   ~/qbb2/tables/statss/2stats.tsv        merged  3.40308e+06  5.42017e+06   \n",
       "7  ~/qbb2/tables/statss/11stats.tsv        merged   3.7051e+06  5.42017e+06   \n",
       "8   ~/qbb2/tables/statss/2stats.tsv  non-chimeric  1.25452e+06  5.42017e+06   \n",
       "9  ~/qbb2/tables/statss/11stats.tsv  non-chimeric  2.99869e+06  5.42017e+06   \n",
       "\n",
       "         prop  order  \n",
       "0   75.870628    2.0  \n",
       "1   79.422620    2.0  \n",
       "2   83.561032    1.0  \n",
       "3   83.757502    1.0  \n",
       "4  100.000000    0.0  \n",
       "5  100.000000    0.0  \n",
       "6   62.785392    3.0  \n",
       "7   68.357690    3.0  \n",
       "8   23.145436    4.0  \n",
       "9   55.324648    4.0  "
      ]
     },
     "execution_count": 89,
     "metadata": {},
     "output_type": "execute_result"
    }
   ],
   "source": [
    "df"
   ]
  },
  {
   "cell_type": "code",
   "execution_count": 91,
   "metadata": {},
   "outputs": [
    {
     "data": {
      "text/plain": [
       "<matplotlib.axes._subplots.AxesSubplot at 0x7fbed80a6a58>"
      ]
     },
     "execution_count": 91,
     "metadata": {},
     "output_type": "execute_result"
    },
    {
     "data": {
      "image/png": "[encoded data removed]",
      "text/plain": [
       "<Figure size 432x288 with 1 Axes>"
      ]
     },
     "metadata": {},
     "output_type": "display_data"
    }
   ],
   "source": [
    "sns.lineplot(data = df, y='prop', x='order', hue='id')"
   ]
  },
  {
   "cell_type": "code",
   "execution_count": null,
   "metadata": {},
   "outputs": [],
   "source": []
  }
 ],
 "metadata": {
  "kernelspec": {
   "display_name": "Python 3",
   "language": "python",
   "name": "python3"
  },
  "language_info": {
   "codemirror_mode": {
    "name": "ipython",
    "version": 3
   },
   "file_extension": ".py",
   "mimetype": "text/x-python",
   "name": "python",
   "nbconvert_exporter": "python",
   "pygments_lexer": "ipython3",
   "version": "3.7.4"
  }
 },
 "nbformat": 4,
 "nbformat_minor": 2
}
