{
 "cells": [
  {
   "cell_type": "markdown",
   "metadata": {},
   "source": [
    "# Barplot for denoising stats\n",
    "Can only compare within dada2 for now but gives a nice barplot to follow how many sequences are lost at each denoising step "
   ]
  },
  {
   "cell_type": "code",
   "execution_count": 1,
   "metadata": {},
   "outputs": [],
   "source": [
    "#files = ['~/qbb2/tables/statss/2stats.tsv','~/qbb2/tables/statss/11stats.tsv']\n",
    "import glob\n",
    "files = glob.glob('/Users/Diana/mocks-to-share-with-Diana/Runs_46_47_55_18years_SPOT_USC_2/reads_qza/qiime2020_11/trimming/paired_without_primers/allresults/unzippedtaxonomy/*/data/taxonomy.tsv')"
   ]
  },
  {
   "cell_type": "code",
   "execution_count": 2,
   "metadata": {},
   "outputs": [],
   "source": [
    "#libraries\n",
    "import pandas as pd\n",
    "import numpy as np\n",
    "import matplotlib.pyplot as plt\n",
    "from matplotlib import rc\n",
    "import seaborn as sns\n",
    "import statistics"
   ]
  },
  {
   "cell_type": "code",
   "execution_count": 3,
   "metadata": {},
   "outputs": [],
   "source": [
    "def load_df(filenames):\n",
    "    stats = []\n",
    "    for filename in filenames:\n",
    "        df = pd.read_csv(filename, sep='\\t')\n",
    "        stats.append(df)\n",
    "    return stats"
   ]
  },
  {
   "cell_type": "code",
   "execution_count": 4,
   "metadata": {},
   "outputs": [],
   "source": [
    "stats = load_df(files)"
   ]
  },
  {
   "cell_type": "code",
   "execution_count": 5,
   "metadata": {},
   "outputs": [
    {
     "ename": "AttributeError",
     "evalue": "module 'pandas' has no attribute 'join'",
     "output_type": "error",
     "traceback": [
      "\u001b[0;31m---------------------------------------------------------------------------\u001b[0m",
      "\u001b[0;31mAttributeError\u001b[0m                            Traceback (most recent call last)",
      "\u001b[0;32m<ipython-input-5-c0704ea0a5f6>\u001b[0m in \u001b[0;36m<module>\u001b[0;34m\u001b[0m\n\u001b[0;32m----> 1\u001b[0;31m \u001b[0mstats\u001b[0m \u001b[0;34m=\u001b[0m \u001b[0mpd\u001b[0m\u001b[0;34m.\u001b[0m\u001b[0mjoin\u001b[0m\u001b[0;34m(\u001b[0m\u001b[0mstats\u001b[0m\u001b[0;34m,\u001b[0m \u001b[0msort\u001b[0m \u001b[0;34m=\u001b[0m \u001b[0;32mTrue\u001b[0m\u001b[0;34m)\u001b[0m\u001b[0;34m\u001b[0m\u001b[0;34m\u001b[0m\u001b[0m\n\u001b[0m\u001b[1;32m      2\u001b[0m \u001b[0mstats\u001b[0m\u001b[0;34m\u001b[0m\u001b[0;34m\u001b[0m\u001b[0m\n",
      "\u001b[0;32m~/miniconda3/lib/python3.7/site-packages/pandas/__init__.py\u001b[0m in \u001b[0;36m__getattr__\u001b[0;34m(name)\u001b[0m\n\u001b[1;32m    242\u001b[0m         \u001b[0;32mreturn\u001b[0m \u001b[0m_SparseArray\u001b[0m\u001b[0;34m\u001b[0m\u001b[0;34m\u001b[0m\u001b[0m\n\u001b[1;32m    243\u001b[0m \u001b[0;34m\u001b[0m\u001b[0m\n\u001b[0;32m--> 244\u001b[0;31m     \u001b[0;32mraise\u001b[0m \u001b[0mAttributeError\u001b[0m\u001b[0;34m(\u001b[0m\u001b[0;34mf\"module 'pandas' has no attribute '{name}'\"\u001b[0m\u001b[0;34m)\u001b[0m\u001b[0;34m\u001b[0m\u001b[0;34m\u001b[0m\u001b[0m\n\u001b[0m\u001b[1;32m    245\u001b[0m \u001b[0;34m\u001b[0m\u001b[0m\n\u001b[1;32m    246\u001b[0m \u001b[0;34m\u001b[0m\u001b[0m\n",
      "\u001b[0;31mAttributeError\u001b[0m: module 'pandas' has no attribute 'join'"
     ]
    }
   ],
   "source": [
    "stats = pd.join(stats, sort = True)\n",
    "stats"
   ]
  },
  {
   "cell_type": "code",
   "execution_count": null,
   "metadata": {},
   "outputs": [],
   "source": [
    "stats"
   ]
  },
  {
   "cell_type": "code",
   "execution_count": null,
   "metadata": {},
   "outputs": [],
   "source": []
  },
  {
   "cell_type": "code",
   "execution_count": null,
   "metadata": {},
   "outputs": [],
   "source": []
  },
  {
   "cell_type": "code",
   "execution_count": null,
   "metadata": {},
   "outputs": [],
   "source": []
  },
  {
   "cell_type": "code",
   "execution_count": null,
   "metadata": {},
   "outputs": [],
   "source": []
  },
  {
   "cell_type": "code",
   "execution_count": null,
   "metadata": {},
   "outputs": [],
   "source": [
    "stats = stats[list(stats.columns[-7:])]\n",
    "stats = stats.drop(0)\n",
    "numeric = ['denoised', 'filtered',  'input', 'merged', 'non-chimeric']\n",
    "stats[numeric] = stats[numeric].apply(pd.to_numeric)\n",
    "stats['% of Reads Remaining'] = stats['non-chimeric']/stats['input']*100\n",
    "\n",
    "stats"
   ]
  },
  {
   "cell_type": "code",
   "execution_count": null,
   "metadata": {},
   "outputs": [],
   "source": [
    "df = stats[['sample-id','% of Reads Remaining','id']]\n",
    "df = df.melt.to_dataframe()\n",
    "\n",
    "#df = df.groupby('sample-id').mean()\n",
    "\n",
    "\n",
    "df"
   ]
  },
  {
   "cell_type": "code",
   "execution_count": null,
   "metadata": {},
   "outputs": [],
   "source": []
  },
  {
   "cell_type": "code",
   "execution_count": null,
   "metadata": {},
   "outputs": [],
   "source": []
  },
  {
   "cell_type": "code",
   "execution_count": null,
   "metadata": {},
   "outputs": [],
   "source": []
  },
  {
   "cell_type": "code",
   "execution_count": null,
   "metadata": {},
   "outputs": [],
   "source": []
  },
  {
   "cell_type": "code",
   "execution_count": null,
   "metadata": {},
   "outputs": [],
   "source": []
  },
  {
   "cell_type": "code",
   "execution_count": null,
   "metadata": {},
   "outputs": [],
   "source": []
  },
  {
   "cell_type": "code",
   "execution_count": null,
   "metadata": {},
   "outputs": [],
   "source": []
  },
  {
   "cell_type": "code",
   "execution_count": 20,
   "metadata": {},
   "outputs": [],
   "source": [
    "def load_df(filenames):\n",
    "    stats = []\n",
    "    for filename in filenames:\n",
    "        df = pd.read_csv(filename, sep='\\t')\n",
    "        df['id'] = filename \n",
    "        stats.append(df)\n",
    "    return stats"
   ]
  },
  {
   "cell_type": "code",
   "execution_count": 21,
   "metadata": {},
   "outputs": [],
   "source": [
    "stats = load_df(files)\n",
    "stats = pd.concat(stats)\n"
   ]
  },
  {
   "cell_type": "code",
   "execution_count": 22,
   "metadata": {},
   "outputs": [
    {
     "data": {
      "text/html": [
       "<div>\n",
       "<style scoped>\n",
       "    .dataframe tbody tr th:only-of-type {\n",
       "        vertical-align: middle;\n",
       "    }\n",
       "\n",
       "    .dataframe tbody tr th {\n",
       "        vertical-align: top;\n",
       "    }\n",
       "\n",
       "    .dataframe thead th {\n",
       "        text-align: right;\n",
       "    }\n",
       "</style>\n",
       "<table border=\"1\" class=\"dataframe\">\n",
       "  <thead>\n",
       "    <tr style=\"text-align: right;\">\n",
       "      <th></th>\n",
       "      <th>Feature ID</th>\n",
       "      <th>Taxon</th>\n",
       "      <th>Confidence</th>\n",
       "      <th>id</th>\n",
       "    </tr>\n",
       "  </thead>\n",
       "  <tbody>\n",
       "    <tr>\n",
       "      <th>0</th>\n",
       "      <td>863728e1cec6befd5ba02d15baef4c36</td>\n",
       "      <td>d__Bacteria; p__Proteobacteria; c__Alphaproteo...</td>\n",
       "      <td>0.879390</td>\n",
       "      <td>/Users/Diana/mocks-to-share-with-Diana/Runs_46...</td>\n",
       "    </tr>\n",
       "    <tr>\n",
       "      <th>1</th>\n",
       "      <td>20a0d2f150b3312772f5c00e54fd7baf</td>\n",
       "      <td>d__Bacteria; p__Bacteroidota; c__Bacteroidia; ...</td>\n",
       "      <td>0.961061</td>\n",
       "      <td>/Users/Diana/mocks-to-share-with-Diana/Runs_46...</td>\n",
       "    </tr>\n",
       "    <tr>\n",
       "      <th>2</th>\n",
       "      <td>2970af3e30642198ba1dfa1f304f310b</td>\n",
       "      <td>d__Archaea; p__Crenarchaeota; c__Nitrososphaer...</td>\n",
       "      <td>0.999219</td>\n",
       "      <td>/Users/Diana/mocks-to-share-with-Diana/Runs_46...</td>\n",
       "    </tr>\n",
       "    <tr>\n",
       "      <th>3</th>\n",
       "      <td>bdf18e8980906003f3978e5ee578c9ea</td>\n",
       "      <td>d__Bacteria; p__Actinobacteriota; c__Acidimicr...</td>\n",
       "      <td>1.000000</td>\n",
       "      <td>/Users/Diana/mocks-to-share-with-Diana/Runs_46...</td>\n",
       "    </tr>\n",
       "    <tr>\n",
       "      <th>4</th>\n",
       "      <td>9c0fe787b120b62b93c3cb46d844d9fa</td>\n",
       "      <td>d__Bacteria; p__Planctomycetota; c__Planctomyc...</td>\n",
       "      <td>0.995824</td>\n",
       "      <td>/Users/Diana/mocks-to-share-with-Diana/Runs_46...</td>\n",
       "    </tr>\n",
       "    <tr>\n",
       "      <th>...</th>\n",
       "      <td>...</td>\n",
       "      <td>...</td>\n",
       "      <td>...</td>\n",
       "      <td>...</td>\n",
       "    </tr>\n",
       "    <tr>\n",
       "      <th>35</th>\n",
       "      <td>e5bef6d7a65c9a889f20b3b9f3ba62fb</td>\n",
       "      <td>d__Archaea; p__Crenarchaeota; c__Nitrososphaer...</td>\n",
       "      <td>0.999984</td>\n",
       "      <td>/Users/Diana/mocks-to-share-with-Diana/Runs_46...</td>\n",
       "    </tr>\n",
       "    <tr>\n",
       "      <th>36</th>\n",
       "      <td>27ca2b8f287c3a7e4d864cc870cf67b7</td>\n",
       "      <td>d__Bacteria; p__Cyanobacteria; c__Cyanobacteri...</td>\n",
       "      <td>0.995559</td>\n",
       "      <td>/Users/Diana/mocks-to-share-with-Diana/Runs_46...</td>\n",
       "    </tr>\n",
       "    <tr>\n",
       "      <th>37</th>\n",
       "      <td>3468430277ce2317dec6f413dcfaa03e</td>\n",
       "      <td>d__Bacteria; p__Proteobacteria; c__Alphaproteo...</td>\n",
       "      <td>1.000000</td>\n",
       "      <td>/Users/Diana/mocks-to-share-with-Diana/Runs_46...</td>\n",
       "    </tr>\n",
       "    <tr>\n",
       "      <th>0</th>\n",
       "      <td>7535a6f86c75377513222e9f08c2de30</td>\n",
       "      <td>d__Archaea; p__Thermoplasmatota; c__Thermoplas...</td>\n",
       "      <td>1.000000</td>\n",
       "      <td>/Users/Diana/mocks-to-share-with-Diana/Runs_46...</td>\n",
       "    </tr>\n",
       "    <tr>\n",
       "      <th>0</th>\n",
       "      <td>7535a6f86c75377513222e9f08c2de30</td>\n",
       "      <td>d__Archaea; p__Thermoplasmatota; c__Thermoplas...</td>\n",
       "      <td>1.000000</td>\n",
       "      <td>/Users/Diana/mocks-to-share-with-Diana/Runs_46...</td>\n",
       "    </tr>\n",
       "  </tbody>\n",
       "</table>\n",
       "<p>24146 rows × 4 columns</p>\n",
       "</div>"
      ],
      "text/plain": [
       "                          Feature ID  \\\n",
       "0   863728e1cec6befd5ba02d15baef4c36   \n",
       "1   20a0d2f150b3312772f5c00e54fd7baf   \n",
       "2   2970af3e30642198ba1dfa1f304f310b   \n",
       "3   bdf18e8980906003f3978e5ee578c9ea   \n",
       "4   9c0fe787b120b62b93c3cb46d844d9fa   \n",
       "..                               ...   \n",
       "35  e5bef6d7a65c9a889f20b3b9f3ba62fb   \n",
       "36  27ca2b8f287c3a7e4d864cc870cf67b7   \n",
       "37  3468430277ce2317dec6f413dcfaa03e   \n",
       "0   7535a6f86c75377513222e9f08c2de30   \n",
       "0   7535a6f86c75377513222e9f08c2de30   \n",
       "\n",
       "                                                Taxon  Confidence  \\\n",
       "0   d__Bacteria; p__Proteobacteria; c__Alphaproteo...    0.879390   \n",
       "1   d__Bacteria; p__Bacteroidota; c__Bacteroidia; ...    0.961061   \n",
       "2   d__Archaea; p__Crenarchaeota; c__Nitrososphaer...    0.999219   \n",
       "3   d__Bacteria; p__Actinobacteriota; c__Acidimicr...    1.000000   \n",
       "4   d__Bacteria; p__Planctomycetota; c__Planctomyc...    0.995824   \n",
       "..                                                ...         ...   \n",
       "35  d__Archaea; p__Crenarchaeota; c__Nitrososphaer...    0.999984   \n",
       "36  d__Bacteria; p__Cyanobacteria; c__Cyanobacteri...    0.995559   \n",
       "37  d__Bacteria; p__Proteobacteria; c__Alphaproteo...    1.000000   \n",
       "0   d__Archaea; p__Thermoplasmatota; c__Thermoplas...    1.000000   \n",
       "0   d__Archaea; p__Thermoplasmatota; c__Thermoplas...    1.000000   \n",
       "\n",
       "                                                   id  \n",
       "0   /Users/Diana/mocks-to-share-with-Diana/Runs_46...  \n",
       "1   /Users/Diana/mocks-to-share-with-Diana/Runs_46...  \n",
       "2   /Users/Diana/mocks-to-share-with-Diana/Runs_46...  \n",
       "3   /Users/Diana/mocks-to-share-with-Diana/Runs_46...  \n",
       "4   /Users/Diana/mocks-to-share-with-Diana/Runs_46...  \n",
       "..                                                ...  \n",
       "35  /Users/Diana/mocks-to-share-with-Diana/Runs_46...  \n",
       "36  /Users/Diana/mocks-to-share-with-Diana/Runs_46...  \n",
       "37  /Users/Diana/mocks-to-share-with-Diana/Runs_46...  \n",
       "0   /Users/Diana/mocks-to-share-with-Diana/Runs_46...  \n",
       "0   /Users/Diana/mocks-to-share-with-Diana/Runs_46...  \n",
       "\n",
       "[24146 rows x 4 columns]"
      ]
     },
     "execution_count": 22,
     "metadata": {},
     "output_type": "execute_result"
    }
   ],
   "source": [
    "stats"
   ]
  },
  {
   "cell_type": "code",
   "execution_count": 17,
   "metadata": {},
   "outputs": [],
   "source": [
    "stats = stats.groupby('id').sum()"
   ]
  },
  {
   "cell_type": "code",
   "execution_count": 27,
   "metadata": {},
   "outputs": [
    {
     "name": "stderr",
     "output_type": "stream",
     "text": [
      "/Users/Diana/miniconda3/lib/python3.7/site-packages/IPython/core/interactiveshell.py:3331: FutureWarning: This dataframe has a column name that matches the 'value_name' column name of the resulting Dataframe. In the future this will raise an error, please set the 'value_name' parameter of DataFrame.melt to a unique name.\n",
      "  exec(code_obj, self.user_global_ns, self.user_ns)\n"
     ]
    }
   ],
   "source": [
    "df = pd.melt(stats.reset_index(), id_vars=['id','Feature ID', 'Taxon'], value_name='Confidence')"
   ]
  },
  {
   "cell_type": "code",
   "execution_count": 28,
   "metadata": {},
   "outputs": [
    {
     "data": {
      "text/html": [
       "<div>\n",
       "<style scoped>\n",
       "    .dataframe tbody tr th:only-of-type {\n",
       "        vertical-align: middle;\n",
       "    }\n",
       "\n",
       "    .dataframe tbody tr th {\n",
       "        vertical-align: top;\n",
       "    }\n",
       "\n",
       "    .dataframe thead th {\n",
       "        text-align: right;\n",
       "    }\n",
       "</style>\n",
       "<table border=\"1\" class=\"dataframe\">\n",
       "  <thead>\n",
       "    <tr style=\"text-align: right;\">\n",
       "      <th></th>\n",
       "      <th>id</th>\n",
       "      <th>Feature ID</th>\n",
       "      <th>Taxon</th>\n",
       "      <th>variable</th>\n",
       "      <th>Confidence</th>\n",
       "    </tr>\n",
       "  </thead>\n",
       "  <tbody>\n",
       "    <tr>\n",
       "      <th>0</th>\n",
       "      <td>/Users/Diana/mocks-to-share-with-Diana/Runs_46...</td>\n",
       "      <td>863728e1cec6befd5ba02d15baef4c36</td>\n",
       "      <td>d__Bacteria; p__Proteobacteria; c__Alphaproteo...</td>\n",
       "      <td>index</td>\n",
       "      <td>0.000000</td>\n",
       "    </tr>\n",
       "    <tr>\n",
       "      <th>1</th>\n",
       "      <td>/Users/Diana/mocks-to-share-with-Diana/Runs_46...</td>\n",
       "      <td>20a0d2f150b3312772f5c00e54fd7baf</td>\n",
       "      <td>d__Bacteria; p__Bacteroidota; c__Bacteroidia; ...</td>\n",
       "      <td>index</td>\n",
       "      <td>1.000000</td>\n",
       "    </tr>\n",
       "    <tr>\n",
       "      <th>2</th>\n",
       "      <td>/Users/Diana/mocks-to-share-with-Diana/Runs_46...</td>\n",
       "      <td>2970af3e30642198ba1dfa1f304f310b</td>\n",
       "      <td>d__Archaea; p__Crenarchaeota; c__Nitrososphaer...</td>\n",
       "      <td>index</td>\n",
       "      <td>2.000000</td>\n",
       "    </tr>\n",
       "    <tr>\n",
       "      <th>3</th>\n",
       "      <td>/Users/Diana/mocks-to-share-with-Diana/Runs_46...</td>\n",
       "      <td>bdf18e8980906003f3978e5ee578c9ea</td>\n",
       "      <td>d__Bacteria; p__Actinobacteriota; c__Acidimicr...</td>\n",
       "      <td>index</td>\n",
       "      <td>3.000000</td>\n",
       "    </tr>\n",
       "    <tr>\n",
       "      <th>4</th>\n",
       "      <td>/Users/Diana/mocks-to-share-with-Diana/Runs_46...</td>\n",
       "      <td>9c0fe787b120b62b93c3cb46d844d9fa</td>\n",
       "      <td>d__Bacteria; p__Planctomycetota; c__Planctomyc...</td>\n",
       "      <td>index</td>\n",
       "      <td>4.000000</td>\n",
       "    </tr>\n",
       "    <tr>\n",
       "      <th>...</th>\n",
       "      <td>...</td>\n",
       "      <td>...</td>\n",
       "      <td>...</td>\n",
       "      <td>...</td>\n",
       "      <td>...</td>\n",
       "    </tr>\n",
       "    <tr>\n",
       "      <th>48287</th>\n",
       "      <td>/Users/Diana/mocks-to-share-with-Diana/Runs_46...</td>\n",
       "      <td>e5bef6d7a65c9a889f20b3b9f3ba62fb</td>\n",
       "      <td>d__Archaea; p__Crenarchaeota; c__Nitrososphaer...</td>\n",
       "      <td>Confidence</td>\n",
       "      <td>0.999984</td>\n",
       "    </tr>\n",
       "    <tr>\n",
       "      <th>48288</th>\n",
       "      <td>/Users/Diana/mocks-to-share-with-Diana/Runs_46...</td>\n",
       "      <td>27ca2b8f287c3a7e4d864cc870cf67b7</td>\n",
       "      <td>d__Bacteria; p__Cyanobacteria; c__Cyanobacteri...</td>\n",
       "      <td>Confidence</td>\n",
       "      <td>0.995559</td>\n",
       "    </tr>\n",
       "    <tr>\n",
       "      <th>48289</th>\n",
       "      <td>/Users/Diana/mocks-to-share-with-Diana/Runs_46...</td>\n",
       "      <td>3468430277ce2317dec6f413dcfaa03e</td>\n",
       "      <td>d__Bacteria; p__Proteobacteria; c__Alphaproteo...</td>\n",
       "      <td>Confidence</td>\n",
       "      <td>1.000000</td>\n",
       "    </tr>\n",
       "    <tr>\n",
       "      <th>48290</th>\n",
       "      <td>/Users/Diana/mocks-to-share-with-Diana/Runs_46...</td>\n",
       "      <td>7535a6f86c75377513222e9f08c2de30</td>\n",
       "      <td>d__Archaea; p__Thermoplasmatota; c__Thermoplas...</td>\n",
       "      <td>Confidence</td>\n",
       "      <td>1.000000</td>\n",
       "    </tr>\n",
       "    <tr>\n",
       "      <th>48291</th>\n",
       "      <td>/Users/Diana/mocks-to-share-with-Diana/Runs_46...</td>\n",
       "      <td>7535a6f86c75377513222e9f08c2de30</td>\n",
       "      <td>d__Archaea; p__Thermoplasmatota; c__Thermoplas...</td>\n",
       "      <td>Confidence</td>\n",
       "      <td>1.000000</td>\n",
       "    </tr>\n",
       "  </tbody>\n",
       "</table>\n",
       "<p>48292 rows × 5 columns</p>\n",
       "</div>"
      ],
      "text/plain": [
       "                                                      id  \\\n",
       "0      /Users/Diana/mocks-to-share-with-Diana/Runs_46...   \n",
       "1      /Users/Diana/mocks-to-share-with-Diana/Runs_46...   \n",
       "2      /Users/Diana/mocks-to-share-with-Diana/Runs_46...   \n",
       "3      /Users/Diana/mocks-to-share-with-Diana/Runs_46...   \n",
       "4      /Users/Diana/mocks-to-share-with-Diana/Runs_46...   \n",
       "...                                                  ...   \n",
       "48287  /Users/Diana/mocks-to-share-with-Diana/Runs_46...   \n",
       "48288  /Users/Diana/mocks-to-share-with-Diana/Runs_46...   \n",
       "48289  /Users/Diana/mocks-to-share-with-Diana/Runs_46...   \n",
       "48290  /Users/Diana/mocks-to-share-with-Diana/Runs_46...   \n",
       "48291  /Users/Diana/mocks-to-share-with-Diana/Runs_46...   \n",
       "\n",
       "                             Feature ID  \\\n",
       "0      863728e1cec6befd5ba02d15baef4c36   \n",
       "1      20a0d2f150b3312772f5c00e54fd7baf   \n",
       "2      2970af3e30642198ba1dfa1f304f310b   \n",
       "3      bdf18e8980906003f3978e5ee578c9ea   \n",
       "4      9c0fe787b120b62b93c3cb46d844d9fa   \n",
       "...                                 ...   \n",
       "48287  e5bef6d7a65c9a889f20b3b9f3ba62fb   \n",
       "48288  27ca2b8f287c3a7e4d864cc870cf67b7   \n",
       "48289  3468430277ce2317dec6f413dcfaa03e   \n",
       "48290  7535a6f86c75377513222e9f08c2de30   \n",
       "48291  7535a6f86c75377513222e9f08c2de30   \n",
       "\n",
       "                                                   Taxon    variable  \\\n",
       "0      d__Bacteria; p__Proteobacteria; c__Alphaproteo...       index   \n",
       "1      d__Bacteria; p__Bacteroidota; c__Bacteroidia; ...       index   \n",
       "2      d__Archaea; p__Crenarchaeota; c__Nitrososphaer...       index   \n",
       "3      d__Bacteria; p__Actinobacteriota; c__Acidimicr...       index   \n",
       "4      d__Bacteria; p__Planctomycetota; c__Planctomyc...       index   \n",
       "...                                                  ...         ...   \n",
       "48287  d__Archaea; p__Crenarchaeota; c__Nitrososphaer...  Confidence   \n",
       "48288  d__Bacteria; p__Cyanobacteria; c__Cyanobacteri...  Confidence   \n",
       "48289  d__Bacteria; p__Proteobacteria; c__Alphaproteo...  Confidence   \n",
       "48290  d__Archaea; p__Thermoplasmatota; c__Thermoplas...  Confidence   \n",
       "48291  d__Archaea; p__Thermoplasmatota; c__Thermoplas...  Confidence   \n",
       "\n",
       "       Confidence  \n",
       "0        0.000000  \n",
       "1        1.000000  \n",
       "2        2.000000  \n",
       "3        3.000000  \n",
       "4        4.000000  \n",
       "...           ...  \n",
       "48287    0.999984  \n",
       "48288    0.995559  \n",
       "48289    1.000000  \n",
       "48290    1.000000  \n",
       "48291    1.000000  \n",
       "\n",
       "[48292 rows x 5 columns]"
      ]
     },
     "execution_count": 28,
     "metadata": {},
     "output_type": "execute_result"
    }
   ],
   "source": [
    "df"
   ]
  },
  {
   "cell_type": "code",
   "execution_count": 29,
   "metadata": {},
   "outputs": [],
   "source": [
    "#because melting kept both index and confidence as a value, so delete all rows that have the value 'index' in the variable column\n",
    "df.drop(df.loc[df['variable']=='index'].index, inplace=True)"
   ]
  },
  {
   "cell_type": "code",
   "execution_count": 33,
   "metadata": {},
   "outputs": [],
   "source": [
    "df = df.drop(['variable'], axis=1)"
   ]
  },
  {
   "cell_type": "code",
   "execution_count": 34,
   "metadata": {},
   "outputs": [
    {
     "data": {
      "text/html": [
       "<div>\n",
       "<style scoped>\n",
       "    .dataframe tbody tr th:only-of-type {\n",
       "        vertical-align: middle;\n",
       "    }\n",
       "\n",
       "    .dataframe tbody tr th {\n",
       "        vertical-align: top;\n",
       "    }\n",
       "\n",
       "    .dataframe thead th {\n",
       "        text-align: right;\n",
       "    }\n",
       "</style>\n",
       "<table border=\"1\" class=\"dataframe\">\n",
       "  <thead>\n",
       "    <tr style=\"text-align: right;\">\n",
       "      <th></th>\n",
       "      <th>id</th>\n",
       "      <th>Feature ID</th>\n",
       "      <th>Taxon</th>\n",
       "      <th>Confidence</th>\n",
       "    </tr>\n",
       "  </thead>\n",
       "  <tbody>\n",
       "    <tr>\n",
       "      <th>24146</th>\n",
       "      <td>/Users/Diana/mocks-to-share-with-Diana/Runs_46...</td>\n",
       "      <td>863728e1cec6befd5ba02d15baef4c36</td>\n",
       "      <td>d__Bacteria; p__Proteobacteria; c__Alphaproteo...</td>\n",
       "      <td>0.879390</td>\n",
       "    </tr>\n",
       "    <tr>\n",
       "      <th>24147</th>\n",
       "      <td>/Users/Diana/mocks-to-share-with-Diana/Runs_46...</td>\n",
       "      <td>20a0d2f150b3312772f5c00e54fd7baf</td>\n",
       "      <td>d__Bacteria; p__Bacteroidota; c__Bacteroidia; ...</td>\n",
       "      <td>0.961061</td>\n",
       "    </tr>\n",
       "    <tr>\n",
       "      <th>24148</th>\n",
       "      <td>/Users/Diana/mocks-to-share-with-Diana/Runs_46...</td>\n",
       "      <td>2970af3e30642198ba1dfa1f304f310b</td>\n",
       "      <td>d__Archaea; p__Crenarchaeota; c__Nitrososphaer...</td>\n",
       "      <td>0.999219</td>\n",
       "    </tr>\n",
       "    <tr>\n",
       "      <th>24149</th>\n",
       "      <td>/Users/Diana/mocks-to-share-with-Diana/Runs_46...</td>\n",
       "      <td>bdf18e8980906003f3978e5ee578c9ea</td>\n",
       "      <td>d__Bacteria; p__Actinobacteriota; c__Acidimicr...</td>\n",
       "      <td>1.000000</td>\n",
       "    </tr>\n",
       "    <tr>\n",
       "      <th>24150</th>\n",
       "      <td>/Users/Diana/mocks-to-share-with-Diana/Runs_46...</td>\n",
       "      <td>9c0fe787b120b62b93c3cb46d844d9fa</td>\n",
       "      <td>d__Bacteria; p__Planctomycetota; c__Planctomyc...</td>\n",
       "      <td>0.995824</td>\n",
       "    </tr>\n",
       "    <tr>\n",
       "      <th>...</th>\n",
       "      <td>...</td>\n",
       "      <td>...</td>\n",
       "      <td>...</td>\n",
       "      <td>...</td>\n",
       "    </tr>\n",
       "    <tr>\n",
       "      <th>48287</th>\n",
       "      <td>/Users/Diana/mocks-to-share-with-Diana/Runs_46...</td>\n",
       "      <td>e5bef6d7a65c9a889f20b3b9f3ba62fb</td>\n",
       "      <td>d__Archaea; p__Crenarchaeota; c__Nitrososphaer...</td>\n",
       "      <td>0.999984</td>\n",
       "    </tr>\n",
       "    <tr>\n",
       "      <th>48288</th>\n",
       "      <td>/Users/Diana/mocks-to-share-with-Diana/Runs_46...</td>\n",
       "      <td>27ca2b8f287c3a7e4d864cc870cf67b7</td>\n",
       "      <td>d__Bacteria; p__Cyanobacteria; c__Cyanobacteri...</td>\n",
       "      <td>0.995559</td>\n",
       "    </tr>\n",
       "    <tr>\n",
       "      <th>48289</th>\n",
       "      <td>/Users/Diana/mocks-to-share-with-Diana/Runs_46...</td>\n",
       "      <td>3468430277ce2317dec6f413dcfaa03e</td>\n",
       "      <td>d__Bacteria; p__Proteobacteria; c__Alphaproteo...</td>\n",
       "      <td>1.000000</td>\n",
       "    </tr>\n",
       "    <tr>\n",
       "      <th>48290</th>\n",
       "      <td>/Users/Diana/mocks-to-share-with-Diana/Runs_46...</td>\n",
       "      <td>7535a6f86c75377513222e9f08c2de30</td>\n",
       "      <td>d__Archaea; p__Thermoplasmatota; c__Thermoplas...</td>\n",
       "      <td>1.000000</td>\n",
       "    </tr>\n",
       "    <tr>\n",
       "      <th>48291</th>\n",
       "      <td>/Users/Diana/mocks-to-share-with-Diana/Runs_46...</td>\n",
       "      <td>7535a6f86c75377513222e9f08c2de30</td>\n",
       "      <td>d__Archaea; p__Thermoplasmatota; c__Thermoplas...</td>\n",
       "      <td>1.000000</td>\n",
       "    </tr>\n",
       "  </tbody>\n",
       "</table>\n",
       "<p>24146 rows × 4 columns</p>\n",
       "</div>"
      ],
      "text/plain": [
       "                                                      id  \\\n",
       "24146  /Users/Diana/mocks-to-share-with-Diana/Runs_46...   \n",
       "24147  /Users/Diana/mocks-to-share-with-Diana/Runs_46...   \n",
       "24148  /Users/Diana/mocks-to-share-with-Diana/Runs_46...   \n",
       "24149  /Users/Diana/mocks-to-share-with-Diana/Runs_46...   \n",
       "24150  /Users/Diana/mocks-to-share-with-Diana/Runs_46...   \n",
       "...                                                  ...   \n",
       "48287  /Users/Diana/mocks-to-share-with-Diana/Runs_46...   \n",
       "48288  /Users/Diana/mocks-to-share-with-Diana/Runs_46...   \n",
       "48289  /Users/Diana/mocks-to-share-with-Diana/Runs_46...   \n",
       "48290  /Users/Diana/mocks-to-share-with-Diana/Runs_46...   \n",
       "48291  /Users/Diana/mocks-to-share-with-Diana/Runs_46...   \n",
       "\n",
       "                             Feature ID  \\\n",
       "24146  863728e1cec6befd5ba02d15baef4c36   \n",
       "24147  20a0d2f150b3312772f5c00e54fd7baf   \n",
       "24148  2970af3e30642198ba1dfa1f304f310b   \n",
       "24149  bdf18e8980906003f3978e5ee578c9ea   \n",
       "24150  9c0fe787b120b62b93c3cb46d844d9fa   \n",
       "...                                 ...   \n",
       "48287  e5bef6d7a65c9a889f20b3b9f3ba62fb   \n",
       "48288  27ca2b8f287c3a7e4d864cc870cf67b7   \n",
       "48289  3468430277ce2317dec6f413dcfaa03e   \n",
       "48290  7535a6f86c75377513222e9f08c2de30   \n",
       "48291  7535a6f86c75377513222e9f08c2de30   \n",
       "\n",
       "                                                   Taxon  Confidence  \n",
       "24146  d__Bacteria; p__Proteobacteria; c__Alphaproteo...    0.879390  \n",
       "24147  d__Bacteria; p__Bacteroidota; c__Bacteroidia; ...    0.961061  \n",
       "24148  d__Archaea; p__Crenarchaeota; c__Nitrososphaer...    0.999219  \n",
       "24149  d__Bacteria; p__Actinobacteriota; c__Acidimicr...    1.000000  \n",
       "24150  d__Bacteria; p__Planctomycetota; c__Planctomyc...    0.995824  \n",
       "...                                                  ...         ...  \n",
       "48287  d__Archaea; p__Crenarchaeota; c__Nitrososphaer...    0.999984  \n",
       "48288  d__Bacteria; p__Cyanobacteria; c__Cyanobacteri...    0.995559  \n",
       "48289  d__Bacteria; p__Proteobacteria; c__Alphaproteo...    1.000000  \n",
       "48290  d__Archaea; p__Thermoplasmatota; c__Thermoplas...    1.000000  \n",
       "48291  d__Archaea; p__Thermoplasmatota; c__Thermoplas...    1.000000  \n",
       "\n",
       "[24146 rows x 4 columns]"
      ]
     },
     "execution_count": 34,
     "metadata": {},
     "output_type": "execute_result"
    }
   ],
   "source": [
    "df"
   ]
  },
  {
   "cell_type": "code",
   "execution_count": 40,
   "metadata": {},
   "outputs": [
    {
     "data": {
      "text/plain": [
       "'/Users/Diana/mocks-to-share-with-Diana/Runs_46_47_55_18years_SPOT_USC_2/reads_qza/qiime2020_11/trimming/paired_without_primers/allresults/unzippedtaxonomy/474cd266-b912-43bb-ae80-310f3488fc85/data/taxonomy.tsv'"
      ]
     },
     "execution_count": 40,
     "metadata": {},
     "output_type": "execute_result"
    }
   ],
   "source": [
    "#print one cell to get the full path to the tsv to delete it from left (lstrip) and right (rstrip) of the table uid\n",
    "df.iloc[1,0]"
   ]
  },
  {
   "cell_type": "code",
   "execution_count": 41,
   "metadata": {},
   "outputs": [],
   "source": [
    "#make a new column called result with the table uid stripped from the PATH to the taxonomy file ()\n",
    "df['result'] = df['id'].map(lambda x: x.lstrip('/Users/Diana/mocks-to-share-with-Diana/Runs_46_47_55_18years_SPOT_USC_2/reads_qza/qiime2020_11/trimming/paired_without_primers/allresults/unzippedtaxonomy/').rstrip('/data/taxonomy.tsv'))"
   ]
  },
  {
   "cell_type": "code",
   "execution_count": 43,
   "metadata": {},
   "outputs": [],
   "source": [
    "df['FeatureID'] = df['result'] + '_' + df['Feature ID'] .astype(str)"
   ]
  },
  {
   "cell_type": "code",
   "execution_count": 48,
   "metadata": {},
   "outputs": [],
   "source": [
    "df = df.drop(['id', 'Feature ID', 'TableUID', 'result'], axis=1)"
   ]
  },
  {
   "cell_type": "code",
   "execution_count": 49,
   "metadata": {},
   "outputs": [
    {
     "data": {
      "text/html": [
       "<div>\n",
       "<style scoped>\n",
       "    .dataframe tbody tr th:only-of-type {\n",
       "        vertical-align: middle;\n",
       "    }\n",
       "\n",
       "    .dataframe tbody tr th {\n",
       "        vertical-align: top;\n",
       "    }\n",
       "\n",
       "    .dataframe thead th {\n",
       "        text-align: right;\n",
       "    }\n",
       "</style>\n",
       "<table border=\"1\" class=\"dataframe\">\n",
       "  <thead>\n",
       "    <tr style=\"text-align: right;\">\n",
       "      <th></th>\n",
       "      <th>Taxon</th>\n",
       "      <th>Confidence</th>\n",
       "      <th>FeatureID</th>\n",
       "    </tr>\n",
       "  </thead>\n",
       "  <tbody>\n",
       "    <tr>\n",
       "      <th>24146</th>\n",
       "      <td>d__Bacteria; p__Proteobacteria; c__Alphaproteo...</td>\n",
       "      <td>0.879390</td>\n",
       "      <td>b912-43bb-ae80-310f3488fc85_863728e1cec6befd5b...</td>\n",
       "    </tr>\n",
       "    <tr>\n",
       "      <th>24147</th>\n",
       "      <td>d__Bacteria; p__Bacteroidota; c__Bacteroidia; ...</td>\n",
       "      <td>0.961061</td>\n",
       "      <td>b912-43bb-ae80-310f3488fc85_20a0d2f150b3312772...</td>\n",
       "    </tr>\n",
       "    <tr>\n",
       "      <th>24148</th>\n",
       "      <td>d__Archaea; p__Crenarchaeota; c__Nitrososphaer...</td>\n",
       "      <td>0.999219</td>\n",
       "      <td>b912-43bb-ae80-310f3488fc85_2970af3e30642198ba...</td>\n",
       "    </tr>\n",
       "    <tr>\n",
       "      <th>24149</th>\n",
       "      <td>d__Bacteria; p__Actinobacteriota; c__Acidimicr...</td>\n",
       "      <td>1.000000</td>\n",
       "      <td>b912-43bb-ae80-310f3488fc85_bdf18e8980906003f3...</td>\n",
       "    </tr>\n",
       "    <tr>\n",
       "      <th>24150</th>\n",
       "      <td>d__Bacteria; p__Planctomycetota; c__Planctomyc...</td>\n",
       "      <td>0.995824</td>\n",
       "      <td>b912-43bb-ae80-310f3488fc85_9c0fe787b120b62b93...</td>\n",
       "    </tr>\n",
       "    <tr>\n",
       "      <th>...</th>\n",
       "      <td>...</td>\n",
       "      <td>...</td>\n",
       "      <td>...</td>\n",
       "    </tr>\n",
       "    <tr>\n",
       "      <th>48287</th>\n",
       "      <td>d__Archaea; p__Crenarchaeota; c__Nitrososphaer...</td>\n",
       "      <td>0.999984</td>\n",
       "      <td>b220048-fea9-4781-a767-ead4a03e6fb6_e5bef6d7a6...</td>\n",
       "    </tr>\n",
       "    <tr>\n",
       "      <th>48288</th>\n",
       "      <td>d__Bacteria; p__Cyanobacteria; c__Cyanobacteri...</td>\n",
       "      <td>0.995559</td>\n",
       "      <td>b220048-fea9-4781-a767-ead4a03e6fb6_27ca2b8f28...</td>\n",
       "    </tr>\n",
       "    <tr>\n",
       "      <th>48289</th>\n",
       "      <td>d__Bacteria; p__Proteobacteria; c__Alphaproteo...</td>\n",
       "      <td>1.000000</td>\n",
       "      <td>b220048-fea9-4781-a767-ead4a03e6fb6_3468430277...</td>\n",
       "    </tr>\n",
       "    <tr>\n",
       "      <th>48290</th>\n",
       "      <td>d__Archaea; p__Thermoplasmatota; c__Thermoplas...</td>\n",
       "      <td>1.000000</td>\n",
       "      <td>3f10c25-820f-438c-9f6b-cb7505fa765_7535a6f86c7...</td>\n",
       "    </tr>\n",
       "    <tr>\n",
       "      <th>48291</th>\n",
       "      <td>d__Archaea; p__Thermoplasmatota; c__Thermoplas...</td>\n",
       "      <td>1.000000</td>\n",
       "      <td>98de68df-f314-4a8e-95a2-d8b3fd8e78e3_7535a6f86...</td>\n",
       "    </tr>\n",
       "  </tbody>\n",
       "</table>\n",
       "<p>24146 rows × 3 columns</p>\n",
       "</div>"
      ],
      "text/plain": [
       "                                                   Taxon  Confidence  \\\n",
       "24146  d__Bacteria; p__Proteobacteria; c__Alphaproteo...    0.879390   \n",
       "24147  d__Bacteria; p__Bacteroidota; c__Bacteroidia; ...    0.961061   \n",
       "24148  d__Archaea; p__Crenarchaeota; c__Nitrososphaer...    0.999219   \n",
       "24149  d__Bacteria; p__Actinobacteriota; c__Acidimicr...    1.000000   \n",
       "24150  d__Bacteria; p__Planctomycetota; c__Planctomyc...    0.995824   \n",
       "...                                                  ...         ...   \n",
       "48287  d__Archaea; p__Crenarchaeota; c__Nitrososphaer...    0.999984   \n",
       "48288  d__Bacteria; p__Cyanobacteria; c__Cyanobacteri...    0.995559   \n",
       "48289  d__Bacteria; p__Proteobacteria; c__Alphaproteo...    1.000000   \n",
       "48290  d__Archaea; p__Thermoplasmatota; c__Thermoplas...    1.000000   \n",
       "48291  d__Archaea; p__Thermoplasmatota; c__Thermoplas...    1.000000   \n",
       "\n",
       "                                               FeatureID  \n",
       "24146  b912-43bb-ae80-310f3488fc85_863728e1cec6befd5b...  \n",
       "24147  b912-43bb-ae80-310f3488fc85_20a0d2f150b3312772...  \n",
       "24148  b912-43bb-ae80-310f3488fc85_2970af3e30642198ba...  \n",
       "24149  b912-43bb-ae80-310f3488fc85_bdf18e8980906003f3...  \n",
       "24150  b912-43bb-ae80-310f3488fc85_9c0fe787b120b62b93...  \n",
       "...                                                  ...  \n",
       "48287  b220048-fea9-4781-a767-ead4a03e6fb6_e5bef6d7a6...  \n",
       "48288  b220048-fea9-4781-a767-ead4a03e6fb6_27ca2b8f28...  \n",
       "48289  b220048-fea9-4781-a767-ead4a03e6fb6_3468430277...  \n",
       "48290  3f10c25-820f-438c-9f6b-cb7505fa765_7535a6f86c7...  \n",
       "48291  98de68df-f314-4a8e-95a2-d8b3fd8e78e3_7535a6f86...  \n",
       "\n",
       "[24146 rows x 3 columns]"
      ]
     },
     "execution_count": 49,
     "metadata": {},
     "output_type": "execute_result"
    }
   ],
   "source": [
    "df"
   ]
  },
  {
   "cell_type": "code",
   "execution_count": null,
   "metadata": {},
   "outputs": [],
   "source": [
    "#save it as a TSV\n",
    "df.to_csv('filename.tsv', sep = '\\t', index=False)"
   ]
  },
  {
   "cell_type": "code",
   "execution_count": null,
   "metadata": {},
   "outputs": [],
   "source": []
  },
  {
   "cell_type": "code",
   "execution_count": null,
   "metadata": {},
   "outputs": [],
   "source": []
  },
  {
   "cell_type": "code",
   "execution_count": null,
   "metadata": {},
   "outputs": [],
   "source": []
  },
  {
   "cell_type": "code",
   "execution_count": null,
   "metadata": {},
   "outputs": [],
   "source": []
  },
  {
   "cell_type": "code",
   "execution_count": null,
   "metadata": {},
   "outputs": [],
   "source": []
  },
  {
   "cell_type": "code",
   "execution_count": null,
   "metadata": {},
   "outputs": [],
   "source": []
  },
  {
   "cell_type": "code",
   "execution_count": null,
   "metadata": {},
   "outputs": [],
   "source": [
    "stats = stats[list(stats.columns[-7:])]\n",
    "stats = stats.drop(0)\n",
    "numeric = ['denoised', 'filtered',  'input', 'merged', 'non-chimeric']\n",
    "stats[numeric] = stats[numeric].apply(pd.to_numeric)\n",
    "\n",
    "##fin stuff\n",
    "stats = stats.groupby('id').sum()\n",
    "stats = stats.drop('/home/diana/qbb2/tables/statss/stats.tsv')\n",
    "df = pd.melt(stats.reset_index(), id_vars='id', var_name='step', value_name='read_number')\n",
    "input_read_num = df['read_number'].max()\n",
    "df['% of Reads Remaining'] = df['read_number'] / input_read_num * 100\n",
    "step_order = {'input': 0, 'filtered': 1, 'denoised': 2, 'merged': 3, 'non-chimeric': 4}\n",
    "df['order'] = df['step'].apply(lambda x: step_order[x])\n",
    "df = df.reset_index()"
   ]
  },
  {
   "cell_type": "code",
   "execution_count": null,
   "metadata": {},
   "outputs": [],
   "source": [
    "df['Run Number'] = df['id'].str.split('/').str.get(-1).str.replace('stats.tsv', '')\n",
    "df['Run Number'] = \"Run \" + df['Run Number']\n",
    "hue_order = df.query('step == \"non-chimeric\"').sort_values('% of Reads Remaining', ascending=False)['Run Number']"
   ]
  },
  {
   "cell_type": "code",
   "execution_count": null,
   "metadata": {},
   "outputs": [],
   "source": [
    "sns.set_style('whitegrid')\n",
    "sns.set_context('talk')"
   ]
  },
  {
   "cell_type": "code",
   "execution_count": null,
   "metadata": {},
   "outputs": [],
   "source": [
    "sns.lineplot(data = df, y='% of Reads Remaining', x='order', hue='Run Number')\n",
    "#plt.legend(bbox_to_anchor=(1.5,1.5))\n",
    "plt.legend('')\n",
    "plt.ylim(0, 100)\n",
    "plt.xlim(0, 4)\n",
    "plt.xticks([x/2 for x in range(0, 9)] , ['Input', '', 'Filtered', '', 'Denoised','', 'Merged', '', 'Non-Chimeric'])\n",
    "plt.xlabel('Processing Steps')\n",
    "plt.title('Parameter Settings Affect Data Loss')\n",
    "plt.savefig('diana.svg')"
   ]
  },
  {
   "cell_type": "code",
   "execution_count": null,
   "metadata": {},
   "outputs": [],
   "source": []
  },
  {
   "cell_type": "code",
   "execution_count": null,
   "metadata": {},
   "outputs": [],
   "source": [
    "def clean( lst ):\n",
    "    # lst is a tuple of (dataframe, nameofdf) and cols is the name of the columns\n",
    "    sums = pd.DataFrame(data=None, columns=['Input','Filtered','Denoised','Merged','Non-chimeric']) #, columns=cols) #sums is the df with the sums for each denoising steps\n",
    "    filenames = []\n",
    "    for t in lst:\n",
    "        df = t[0].drop(t[0].index[0])\n",
    "        df.iloc[:,1:6] = df.iloc[:,1:6].apply(pd.to_numeric)\n",
    "        sums = sums.append(df.iloc[:,1:6].sum(), ignore_index=True)\n",
    "        filenames.append(t[1])\n",
    "    index = pd.DataFrame({'id':filenames})\n",
    "    sums = sums.join(index)\n",
    "    sums = sums.set_index(\"id\")\n",
    "    \n",
    "    rc('font', weight='bold') # y-axis in bold\n",
    "    r = [0,1] # The position of the bars on the x-axis\n",
    "    names = files #of groups\n",
    "    barWidth = 1\n",
    "    Step=['Input','Filtered','Denoised','Merged','Non-chimeric']\n",
    "    color = ['darkorange','orange','sandybrown','navajowhite','blanchedalmond']\n",
    "\n",
    "    plt.bar(r, sums.loc[:,'input'], color='darkorange', edgecolor='white', width=barWidth)\n",
    "    plt.bar(r, sums.loc[:,'filtered'], color='orange', edgecolor='white', width=barWidth)\n",
    "    plt.bar(r, sums.loc[:,'denoised'], color='sandybrown', edgecolor='white', width=barWidth)\n",
    "    plt.bar(r, sums.loc[:,'merged'], color='navajowhite', edgecolor='white', width=barWidth)\n",
    "    plt.bar(r, sums.loc[:,'non-chimeric'], color='blanchedalmond', edgecolor='white', width=barWidth)\n",
    "    \n",
    "    # Custom axis\n",
    "    plt.xticks(r, ['Trimming 1', 'Parameter 2'], fontweight='bold')\n",
    "    plt.xlabel(\"Method\")\n",
    "    plt.ylabel(\"Sequencing depth\")\n",
    "    \n",
    "    # Show graphic\n",
    "    plt.legend(Step,bbox_to_anchor=(1.05, 1), loc=2, borderaxespad=0.)\n",
    "    \n",
    "    return sums, plt.show()"
   ]
  },
  {
   "cell_type": "code",
   "execution_count": null,
   "metadata": {},
   "outputs": [],
   "source": [
    "clean(files)"
   ]
  },
  {
   "cell_type": "code",
   "execution_count": null,
   "metadata": {
    "scrolled": true
   },
   "outputs": [],
   "source": [
    "sums, cleaned = clean(stats)\n",
    "cleaned\n",
    "plt.savefig('blop.png', dpi=300)"
   ]
  },
  {
   "cell_type": "code",
   "execution_count": null,
   "metadata": {},
   "outputs": [],
   "source": [
    "sns.pairplot"
   ]
  },
  {
   "cell_type": "code",
   "execution_count": null,
   "metadata": {},
   "outputs": [],
   "source": [
    "step_order = ['input', 'filtered', 'denoised', 'merged', 'non-chimeric']\n"
   ]
  },
  {
   "cell_type": "code",
   "execution_count": null,
   "metadata": {},
   "outputs": [],
   "source": [
    "sns.set_style('whitegrid')\n",
    "sns.set_context('notebook')"
   ]
  },
  {
   "cell_type": "code",
   "execution_count": null,
   "metadata": {},
   "outputs": [],
   "source": [
    "df"
   ]
  },
  {
   "cell_type": "code",
   "execution_count": null,
   "metadata": {},
   "outputs": [],
   "source": [
    "sns.lineplot(data = df, y='prop', x='order', hue='id')"
   ]
  },
  {
   "cell_type": "code",
   "execution_count": null,
   "metadata": {},
   "outputs": [],
   "source": []
  }
 ],
 "metadata": {
  "kernelspec": {
   "display_name": "Python 3",
   "language": "python",
   "name": "python3"
  },
  "language_info": {
   "codemirror_mode": {
    "name": "ipython",
    "version": 3
   },
   "file_extension": ".py",
   "mimetype": "text/x-python",
   "name": "python",
   "nbconvert_exporter": "python",
   "pygments_lexer": "ipython3",
   "version": "3.7.6"
  }
 },
 "nbformat": 4,
 "nbformat_minor": 2
}
